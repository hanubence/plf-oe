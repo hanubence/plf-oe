{
 "cells": [
  {
   "cell_type": "code",
   "execution_count": 1,
   "metadata": {},
   "outputs": [],
   "source": [
    "import pandas as pd\n",
    "import numpy as np\n",
    "from matplotlib import pyplot as plt\n",
    "plt.style.use('ggplot')\n",
    "%matplotlib inline\n",
    "import seaborn as sns"
   ]
  },
  {
   "cell_type": "markdown",
   "metadata": {},
   "source": [
    "#1. Read in the file. This is a synchronized file with my OneDrive from a folder Fernanda shared with me.\n",
    "<br> I start working with the form that was generated in the field; this is, the cow ids, sample and stall ids, and hygiene scores"
   ]
  },
  {
   "cell_type": "code",
   "execution_count": 46,
   "metadata": {},
   "outputs": [],
   "source": [
    "# Farm Visit 02-June-2020\n",
    "\n",
    "#file_path = \"/Users/gemavidal/Vet/University of California, Davis/Fernanda Carolina Ferreira - Cowmanager/06022020/06022020_FarmVisit.csv\"\n",
    "#df = pd.read_csv(file_path, index_col = False)"
   ]
  },
  {
   "cell_type": "code",
   "execution_count": 2,
   "metadata": {},
   "outputs": [],
   "source": [
    "# Farm Visit 30-June-2020\n",
    "\n",
    "#file_path = \"/Users/gemavidal/Vet/University of California, Davis/Fernanda Carolina Ferreira - Cowmanager/06302020/06302020_FarmVisit.csv\"\n",
    "#df = pd.read_csv(file_path, index_col = False)"
   ]
  },
  {
   "cell_type": "code",
   "execution_count": 2,
   "metadata": {},
   "outputs": [],
   "source": [
    "# Farm Visit 04-August-2020\n",
    "\n",
    "file_path = \"/Users/gemavidal/Vet/University of California, Davis/Fernanda Carolina Ferreira - Cowmanager/08042020/08042020_FarmVisit.csv\"\n",
    "df = pd.read_csv(file_path, index_col = False)"
   ]
  },
  {
   "cell_type": "markdown",
   "metadata": {},
   "source": [
    "Take a look at the first rows. The columns should be:<br>\n",
    "date (2-Jun-20; object), <br>\n",
    "scc_sample_id (object), <br>\n",
    "stall_number (int64), <br>\n",
    "cow_id (int64), <br>\n",
    "hygiene_score (object), <br>\n",
    "hygiene_score_notes (object), <br>\n",
    "recorder (object), <br>\n",
    "notes (object)<br>"
   ]
  },
  {
   "cell_type": "code",
   "execution_count": 4,
   "metadata": {},
   "outputs": [
    {
     "data": {
      "text/html": [
       "<div>\n",
       "<style scoped>\n",
       "    .dataframe tbody tr th:only-of-type {\n",
       "        vertical-align: middle;\n",
       "    }\n",
       "\n",
       "    .dataframe tbody tr th {\n",
       "        vertical-align: top;\n",
       "    }\n",
       "\n",
       "    .dataframe thead th {\n",
       "        text-align: right;\n",
       "    }\n",
       "</style>\n",
       "<table border=\"1\" class=\"dataframe\">\n",
       "  <thead>\n",
       "    <tr style=\"text-align: right;\">\n",
       "      <th></th>\n",
       "      <th>date</th>\n",
       "      <th>scc_sample_id</th>\n",
       "      <th>stall_number</th>\n",
       "      <th>cow_id</th>\n",
       "      <th>hygiene_score</th>\n",
       "      <th>hygiene_score_notes</th>\n",
       "      <th>recorder</th>\n",
       "      <th>notes</th>\n",
       "    </tr>\n",
       "  </thead>\n",
       "  <tbody>\n",
       "    <tr>\n",
       "      <th>0</th>\n",
       "      <td>4-Aug-20</td>\n",
       "      <td>1</td>\n",
       "      <td>53</td>\n",
       "      <td>7546</td>\n",
       "      <td>1</td>\n",
       "      <td>NaN</td>\n",
       "      <td>daniela</td>\n",
       "      <td>NaN</td>\n",
       "    </tr>\n",
       "    <tr>\n",
       "      <th>1</th>\n",
       "      <td>4-Aug-20</td>\n",
       "      <td>2</td>\n",
       "      <td>54</td>\n",
       "      <td>3562</td>\n",
       "      <td>2</td>\n",
       "      <td>NaN</td>\n",
       "      <td>daniela</td>\n",
       "      <td>NaN</td>\n",
       "    </tr>\n",
       "    <tr>\n",
       "      <th>2</th>\n",
       "      <td>4-Aug-20</td>\n",
       "      <td>3</td>\n",
       "      <td>55</td>\n",
       "      <td>2478</td>\n",
       "      <td>1</td>\n",
       "      <td>NaN</td>\n",
       "      <td>daniela</td>\n",
       "      <td>NaN</td>\n",
       "    </tr>\n",
       "    <tr>\n",
       "      <th>3</th>\n",
       "      <td>4-Aug-20</td>\n",
       "      <td>4</td>\n",
       "      <td>56</td>\n",
       "      <td>5781</td>\n",
       "      <td>2</td>\n",
       "      <td>NaN</td>\n",
       "      <td>daniela</td>\n",
       "      <td>NaN</td>\n",
       "    </tr>\n",
       "    <tr>\n",
       "      <th>4</th>\n",
       "      <td>4-Aug-20</td>\n",
       "      <td>5</td>\n",
       "      <td>57</td>\n",
       "      <td>2344</td>\n",
       "      <td>3</td>\n",
       "      <td>NaN</td>\n",
       "      <td>daniela</td>\n",
       "      <td>NaN</td>\n",
       "    </tr>\n",
       "  </tbody>\n",
       "</table>\n",
       "</div>"
      ],
      "text/plain": [
       "       date  scc_sample_id  stall_number  cow_id  hygiene_score  \\\n",
       "0  4-Aug-20              1            53    7546              1   \n",
       "1  4-Aug-20              2            54    3562              2   \n",
       "2  4-Aug-20              3            55    2478              1   \n",
       "3  4-Aug-20              4            56    5781              2   \n",
       "4  4-Aug-20              5            57    2344              3   \n",
       "\n",
       "   hygiene_score_notes recorder  notes  \n",
       "0                  NaN  daniela    NaN  \n",
       "1                  NaN  daniela    NaN  \n",
       "2                  NaN  daniela    NaN  \n",
       "3                  NaN  daniela    NaN  \n",
       "4                  NaN  daniela    NaN  "
      ]
     },
     "execution_count": 4,
     "metadata": {},
     "output_type": "execute_result"
    }
   ],
   "source": [
    "df.head(5)"
   ]
  },
  {
   "cell_type": "code",
   "execution_count": 5,
   "metadata": {},
   "outputs": [
    {
     "data": {
      "text/plain": [
       "(43, 8)"
      ]
     },
     "execution_count": 5,
     "metadata": {},
     "output_type": "execute_result"
    }
   ],
   "source": [
    "# Take a look at the dimensions of the dataframe\n",
    "df.shape"
   ]
  },
  {
   "cell_type": "code",
   "execution_count": 6,
   "metadata": {},
   "outputs": [
    {
     "data": {
      "text/plain": [
       "date                    object\n",
       "scc_sample_id            int64\n",
       "stall_number             int64\n",
       "cow_id                   int64\n",
       "hygiene_score            int64\n",
       "hygiene_score_notes    float64\n",
       "recorder                object\n",
       "notes                  float64\n",
       "dtype: object"
      ]
     },
     "execution_count": 6,
     "metadata": {},
     "output_type": "execute_result"
    }
   ],
   "source": [
    "# Take a look at the structure/format of each column\n",
    "df.dtypes"
   ]
  },
  {
   "cell_type": "markdown",
   "metadata": {},
   "source": [
    "<br>\n",
    "Try to find duplicates of funny notations"
   ]
  },
  {
   "cell_type": "code",
   "execution_count": 7,
   "metadata": {},
   "outputs": [
    {
     "name": "stdout",
     "output_type": "stream",
     "text": [
      "4-Aug-20    43\n",
      "Name: date, dtype: int64\n",
      "43    1\n",
      "11    1\n",
      "19    1\n",
      "18    1\n",
      "17    1\n",
      "16    1\n",
      "15    1\n",
      "14    1\n",
      "13    1\n",
      "12    1\n",
      "10    1\n",
      "21    1\n",
      "9     1\n",
      "8     1\n",
      "7     1\n",
      "6     1\n",
      "5     1\n",
      "4     1\n",
      "3     1\n",
      "2     1\n",
      "20    1\n",
      "22    1\n",
      "42    1\n",
      "33    1\n",
      "41    1\n",
      "40    1\n",
      "39    1\n",
      "38    1\n",
      "37    1\n",
      "36    1\n",
      "35    1\n",
      "34    1\n",
      "32    1\n",
      "23    1\n",
      "31    1\n",
      "30    1\n",
      "29    1\n",
      "28    1\n",
      "27    1\n",
      "26    1\n",
      "25    1\n",
      "24    1\n",
      "1     1\n",
      "Name: scc_sample_id, dtype: int64\n",
      "63    1\n",
      "1     1\n",
      "9     1\n",
      "17    1\n",
      "16    1\n",
      "15    1\n",
      "14    1\n",
      "13    1\n",
      "12    1\n",
      "11    1\n",
      "8     1\n",
      "20    1\n",
      "72    1\n",
      "7     1\n",
      "70    1\n",
      "69    1\n",
      "68    1\n",
      "67    1\n",
      "66    1\n",
      "65    1\n",
      "2     1\n",
      "21    1\n",
      "62    1\n",
      "53    1\n",
      "61    1\n",
      "60    1\n",
      "59    1\n",
      "58    1\n",
      "57    1\n",
      "56    1\n",
      "55    1\n",
      "54    1\n",
      "5     1\n",
      "22    1\n",
      "6     1\n",
      "4     1\n",
      "19    1\n",
      "18    1\n",
      "3     1\n",
      "10    1\n",
      "24    1\n",
      "23    1\n",
      "64    1\n",
      "Name: stall_number, dtype: int64\n",
      "7678    1\n",
      "3855    1\n",
      "4059    1\n",
      "7439    1\n",
      "5785    1\n",
      "5894    1\n",
      "5781    1\n",
      "7477    1\n",
      "4690    1\n",
      "400     1\n",
      "5453    1\n",
      "2013    1\n",
      "2856    1\n",
      "7563    1\n",
      "1738    1\n",
      "2696    1\n",
      "5831    1\n",
      "7494    1\n",
      "5124    1\n",
      "1896    1\n",
      "7114    1\n",
      "7657    1\n",
      "720     1\n",
      "5707    1\n",
      "7546    1\n",
      "5497    1\n",
      "7222    1\n",
      "5877    1\n",
      "5555    1\n",
      "7538    1\n",
      "7386    1\n",
      "2478    1\n",
      "674     1\n",
      "7584    1\n",
      "5107    1\n",
      "3562    1\n",
      "1897    1\n",
      "2344    1\n",
      "1884    1\n",
      "7553    1\n",
      "7138    1\n",
      "7154    1\n",
      "1627    1\n",
      "Name: cow_id, dtype: int64\n",
      "2    19\n",
      "1    15\n",
      "3     9\n",
      "Name: hygiene_score, dtype: int64\n",
      "Series([], Name: hygiene_score_notes, dtype: int64)\n",
      "daniela    24\n",
      "gema       19\n",
      "Name: recorder, dtype: int64\n",
      "Series([], Name: notes, dtype: int64)\n"
     ]
    }
   ],
   "source": [
    "# Take a look at the different levels (focus on categorical variables)\n",
    "\n",
    "for i in df:\n",
    "    print (df[i].value_counts())"
   ]
  },
  {
   "cell_type": "markdown",
   "metadata": {},
   "source": [
    "There is one row that is for a cow that didn't come to the parlor to be dried. Remove that row using 'hygiene_score'"
   ]
  },
  {
   "cell_type": "code",
   "execution_count": 51,
   "metadata": {},
   "outputs": [
    {
     "data": {
      "text/plain": [
       "(36, 8)"
      ]
     },
     "execution_count": 51,
     "metadata": {},
     "output_type": "execute_result"
    }
   ],
   "source": [
    "df = df.loc[(df['hygiene_score'] != 'not dry')]\n",
    "\n",
    "# Double-check there is one row less in the dataframe\n",
    "df.shape"
   ]
  },
  {
   "cell_type": "markdown",
   "metadata": {},
   "source": [
    "<br> Lets work on the dates. Create a time stamp (this data doesn't have the hour of the day but later it should be assigned a time for the hygiene score and DHI lab results, so sensor data are only used up to the time of dry-off)."
   ]
  },
  {
   "cell_type": "code",
   "execution_count": 8,
   "metadata": {},
   "outputs": [
    {
     "data": {
      "text/plain": [
       "0    4-Aug-20\n",
       "1    4-Aug-20\n",
       "2    4-Aug-20\n",
       "Name: date, dtype: object"
      ]
     },
     "execution_count": 8,
     "metadata": {},
     "output_type": "execute_result"
    }
   ],
   "source": [
    "df['date'].head(3)"
   ]
  },
  {
   "cell_type": "code",
   "execution_count": 9,
   "metadata": {},
   "outputs": [],
   "source": [
    "df['date_stamp'] = pd.to_datetime(df[\"date\"], format = '%d-%b-%y')\n",
    "df['month'] = df['date_stamp'].dt.month\n",
    "df['year'] = df['date_stamp'].dt.year"
   ]
  },
  {
   "cell_type": "code",
   "execution_count": 10,
   "metadata": {},
   "outputs": [
    {
     "data": {
      "text/plain": [
       "date                           object\n",
       "scc_sample_id                   int64\n",
       "stall_number                    int64\n",
       "cow_id                          int64\n",
       "hygiene_score                   int64\n",
       "hygiene_score_notes           float64\n",
       "recorder                       object\n",
       "notes                         float64\n",
       "date_stamp             datetime64[ns]\n",
       "month                           int64\n",
       "year                            int64\n",
       "dtype: object"
      ]
     },
     "execution_count": 10,
     "metadata": {},
     "output_type": "execute_result"
    }
   ],
   "source": [
    "df.dtypes"
   ]
  },
  {
   "cell_type": "markdown",
   "metadata": {},
   "source": [
    "\n",
    "## Next: read in the DHI data, so it can be merged with this one by the cow id"
   ]
  },
  {
   "cell_type": "code",
   "execution_count": 55,
   "metadata": {},
   "outputs": [],
   "source": [
    "# Farm Visit 2-June-2020\n",
    "\n",
    "#file_path = \"/Users/gemavidal/Vet/University of California, Davis/Fernanda Carolina Ferreira - Cowmanager/06022020/06022020_DHIA_mgt.csv\"\n",
    "#df_cow = pd.read_csv(file_path, index_col = False)"
   ]
  },
  {
   "cell_type": "code",
   "execution_count": 10,
   "metadata": {},
   "outputs": [],
   "source": [
    "# Farm Visit 30-June-2020\n",
    "\n",
    "#file_path = \"/Users/gemavidal/Vet/University of California, Davis/Fernanda Carolina Ferreira - Cowmanager/06302020/06302020_DHIA_mgt.csv\"\n",
    "#df_cow = pd.read_csv(file_path, index_col = False)"
   ]
  },
  {
   "cell_type": "code",
   "execution_count": 31,
   "metadata": {},
   "outputs": [],
   "source": [
    "# Farm Visit 4-August-2020\n",
    "\n",
    "file_path = \"/Users/gemavidal/Vet/University of California, Davis/Fernanda Carolina Ferreira - Cowmanager/08042020/08042020_DHIA_mgt.csv\"\n",
    "df_cow = pd.read_csv(file_path, index_col = False)"
   ]
  },
  {
   "cell_type": "code",
   "execution_count": 32,
   "metadata": {},
   "outputs": [
    {
     "data": {
      "text/html": [
       "<div>\n",
       "<style scoped>\n",
       "    .dataframe tbody tr th:only-of-type {\n",
       "        vertical-align: middle;\n",
       "    }\n",
       "\n",
       "    .dataframe tbody tr th {\n",
       "        vertical-align: top;\n",
       "    }\n",
       "\n",
       "    .dataframe thead th {\n",
       "        text-align: right;\n",
       "    }\n",
       "</style>\n",
       "<table border=\"1\" class=\"dataframe\">\n",
       "  <thead>\n",
       "    <tr style=\"text-align: right;\">\n",
       "      <th></th>\n",
       "      <th>Date</th>\n",
       "      <th>Order</th>\n",
       "      <th>Sample ID</th>\n",
       "      <th>Fat</th>\n",
       "      <th>Pro</th>\n",
       "      <th>Lac</th>\n",
       "      <th>Snf</th>\n",
       "      <th>Mun</th>\n",
       "      <th>Scc</th>\n",
       "      <th>Cow ID</th>\n",
       "      <th>...</th>\n",
       "      <th>last Pen</th>\n",
       "      <th>N clinical mastitis current lactation</th>\n",
       "      <th>Day first CM</th>\n",
       "      <th>Last CM</th>\n",
       "      <th>N days for 1st CM case</th>\n",
       "      <th>N days from last CM to dry-off</th>\n",
       "      <th>Last test-day milk production (lbs)</th>\n",
       "      <th>DIM at dry-off</th>\n",
       "      <th>Dry-off date</th>\n",
       "      <th>Obs</th>\n",
       "    </tr>\n",
       "  </thead>\n",
       "  <tbody>\n",
       "    <tr>\n",
       "      <th>0</th>\n",
       "      <td>8/4/2020</td>\n",
       "      <td>1</td>\n",
       "      <td>1</td>\n",
       "      <td>2.49</td>\n",
       "      <td>3.60</td>\n",
       "      <td>4.39</td>\n",
       "      <td>8.84</td>\n",
       "      <td>8.2</td>\n",
       "      <td>135</td>\n",
       "      <td>7546</td>\n",
       "      <td>...</td>\n",
       "      <td>8</td>\n",
       "      <td>0</td>\n",
       "      <td>NaN</td>\n",
       "      <td>NaN</td>\n",
       "      <td>NaN</td>\n",
       "      <td>NaN</td>\n",
       "      <td>49</td>\n",
       "      <td>300</td>\n",
       "      <td>8/4/2020</td>\n",
       "      <td>NaN</td>\n",
       "    </tr>\n",
       "    <tr>\n",
       "      <th>1</th>\n",
       "      <td>8/4/2020</td>\n",
       "      <td>2</td>\n",
       "      <td>2</td>\n",
       "      <td>3.09</td>\n",
       "      <td>3.47</td>\n",
       "      <td>4.18</td>\n",
       "      <td>8.52</td>\n",
       "      <td>10.2</td>\n",
       "      <td>135</td>\n",
       "      <td>3562</td>\n",
       "      <td>...</td>\n",
       "      <td>11</td>\n",
       "      <td>0</td>\n",
       "      <td>NaN</td>\n",
       "      <td>NaN</td>\n",
       "      <td>NaN</td>\n",
       "      <td>NaN</td>\n",
       "      <td>57</td>\n",
       "      <td>380</td>\n",
       "      <td>8/4/2020</td>\n",
       "      <td>NaN</td>\n",
       "    </tr>\n",
       "    <tr>\n",
       "      <th>2</th>\n",
       "      <td>8/4/2020</td>\n",
       "      <td>3</td>\n",
       "      <td>3</td>\n",
       "      <td>3.03</td>\n",
       "      <td>3.02</td>\n",
       "      <td>4.06</td>\n",
       "      <td>8.03</td>\n",
       "      <td>11.3</td>\n",
       "      <td>200</td>\n",
       "      <td>2478</td>\n",
       "      <td>...</td>\n",
       "      <td>7</td>\n",
       "      <td>1</td>\n",
       "      <td>6/10/2020</td>\n",
       "      <td>6/10/2020</td>\n",
       "      <td>230.0</td>\n",
       "      <td>55.0</td>\n",
       "      <td>56</td>\n",
       "      <td>285</td>\n",
       "      <td>8/4/2020</td>\n",
       "      <td>NaN</td>\n",
       "    </tr>\n",
       "    <tr>\n",
       "      <th>3</th>\n",
       "      <td>8/4/2020</td>\n",
       "      <td>4</td>\n",
       "      <td>4</td>\n",
       "      <td>3.30</td>\n",
       "      <td>3.74</td>\n",
       "      <td>3.54</td>\n",
       "      <td>8.15</td>\n",
       "      <td>9.9</td>\n",
       "      <td>509</td>\n",
       "      <td>5781</td>\n",
       "      <td>...</td>\n",
       "      <td>7</td>\n",
       "      <td>0</td>\n",
       "      <td>NaN</td>\n",
       "      <td>NaN</td>\n",
       "      <td>NaN</td>\n",
       "      <td>NaN</td>\n",
       "      <td>33</td>\n",
       "      <td>289</td>\n",
       "      <td>8/4/2020</td>\n",
       "      <td>NaN</td>\n",
       "    </tr>\n",
       "    <tr>\n",
       "      <th>4</th>\n",
       "      <td>8/4/2020</td>\n",
       "      <td>5</td>\n",
       "      <td>5</td>\n",
       "      <td>2.43</td>\n",
       "      <td>4.47</td>\n",
       "      <td>3.47</td>\n",
       "      <td>8.71</td>\n",
       "      <td>8.0</td>\n",
       "      <td>1294</td>\n",
       "      <td>2344</td>\n",
       "      <td>...</td>\n",
       "      <td>4</td>\n",
       "      <td>0</td>\n",
       "      <td>NaN</td>\n",
       "      <td>NaN</td>\n",
       "      <td>NaN</td>\n",
       "      <td>NaN</td>\n",
       "      <td>18</td>\n",
       "      <td>340</td>\n",
       "      <td>8/4/2020</td>\n",
       "      <td>NaN</td>\n",
       "    </tr>\n",
       "  </tbody>\n",
       "</table>\n",
       "<p>5 rows × 23 columns</p>\n",
       "</div>"
      ],
      "text/plain": [
       "       Date  Order  Sample ID   Fat   Pro   Lac   Snf   Mun   Scc  Cow ID  \\\n",
       "0  8/4/2020      1          1  2.49  3.60  4.39  8.84   8.2   135    7546   \n",
       "1  8/4/2020      2          2  3.09  3.47  4.18  8.52  10.2   135    3562   \n",
       "2  8/4/2020      3          3  3.03  3.02  4.06  8.03  11.3   200    2478   \n",
       "3  8/4/2020      4          4  3.30  3.74  3.54  8.15   9.9   509    5781   \n",
       "4  8/4/2020      5          5  2.43  4.47  3.47  8.71   8.0  1294    2344   \n",
       "\n",
       "  ...  last Pen  N clinical mastitis current lactation Day first CM  \\\n",
       "0 ...         8                                      0          NaN   \n",
       "1 ...        11                                      0          NaN   \n",
       "2 ...         7                                      1    6/10/2020   \n",
       "3 ...         7                                      0          NaN   \n",
       "4 ...         4                                      0          NaN   \n",
       "\n",
       "     Last CM  N days for 1st CM case N days from last CM to dry-off  \\\n",
       "0        NaN                     NaN                            NaN   \n",
       "1        NaN                     NaN                            NaN   \n",
       "2  6/10/2020                   230.0                           55.0   \n",
       "3        NaN                     NaN                            NaN   \n",
       "4        NaN                     NaN                            NaN   \n",
       "\n",
       "  Last test-day milk production (lbs)  DIM at dry-off  Dry-off date  Obs  \n",
       "0                                  49             300      8/4/2020  NaN  \n",
       "1                                  57             380      8/4/2020  NaN  \n",
       "2                                  56             285      8/4/2020  NaN  \n",
       "3                                  33             289      8/4/2020  NaN  \n",
       "4                                  18             340      8/4/2020  NaN  \n",
       "\n",
       "[5 rows x 23 columns]"
      ]
     },
     "execution_count": 32,
     "metadata": {},
     "output_type": "execute_result"
    }
   ],
   "source": [
    "# Take a look at first rows\n",
    "df_cow.head(5)"
   ]
  },
  {
   "cell_type": "code",
   "execution_count": 33,
   "metadata": {},
   "outputs": [
    {
     "data": {
      "text/plain": [
       "(43, 23)"
      ]
     },
     "execution_count": 33,
     "metadata": {},
     "output_type": "execute_result"
    }
   ],
   "source": [
    "# Take a look at the dimensions of the dataframe\n",
    "df_cow.shape"
   ]
  },
  {
   "cell_type": "markdown",
   "metadata": {},
   "source": [
    "Here, there is one more row than in the other df (the field form with hygiene scores)"
   ]
  },
  {
   "cell_type": "code",
   "execution_count": 34,
   "metadata": {},
   "outputs": [
    {
     "data": {
      "text/plain": [
       "Date                                      object\n",
       "Order                                      int64\n",
       "Sample ID                                  int64\n",
       "Fat                                      float64\n",
       "Pro                                      float64\n",
       "Lac                                      float64\n",
       "Snf                                      float64\n",
       "Mun                                      float64\n",
       "Scc                                        int64\n",
       "Cow ID                                     int64\n",
       "Fresh date                                object\n",
       "Lactation number                           int64\n",
       "Last move                                 object\n",
       "last Pen                                   int64\n",
       "N clinical mastitis current lactation      int64\n",
       "Day first CM                              object\n",
       "Last CM                                   object\n",
       "N days for 1st CM case                   float64\n",
       "N days from last CM to dry-off           float64\n",
       "Last test-day milk production (lbs)        int64\n",
       "DIM at dry-off                             int64\n",
       "Dry-off date                              object\n",
       "Obs                                      float64\n",
       "dtype: object"
      ]
     },
     "execution_count": 34,
     "metadata": {},
     "output_type": "execute_result"
    }
   ],
   "source": [
    "# Take a look at the structure\n",
    "df_cow.dtypes"
   ]
  },
  {
   "cell_type": "code",
   "execution_count": 35,
   "metadata": {
    "scrolled": true
   },
   "outputs": [
    {
     "name": "stdout",
     "output_type": "stream",
     "text": [
      "8/4/2020    43\n",
      "Name: Date, dtype: int64\n",
      "43    1\n",
      "11    1\n",
      "19    1\n",
      "18    1\n",
      "17    1\n",
      "16    1\n",
      "15    1\n",
      "14    1\n",
      "13    1\n",
      "12    1\n",
      "10    1\n",
      "21    1\n",
      "9     1\n",
      "8     1\n",
      "7     1\n",
      "6     1\n",
      "5     1\n",
      "4     1\n",
      "3     1\n",
      "2     1\n",
      "20    1\n",
      "22    1\n",
      "42    1\n",
      "33    1\n",
      "41    1\n",
      "40    1\n",
      "39    1\n",
      "38    1\n",
      "37    1\n",
      "36    1\n",
      "35    1\n",
      "34    1\n",
      "32    1\n",
      "23    1\n",
      "31    1\n",
      "30    1\n",
      "29    1\n",
      "28    1\n",
      "27    1\n",
      "26    1\n",
      "25    1\n",
      "24    1\n",
      "1     1\n",
      "Name: Order, dtype: int64\n",
      "43    1\n",
      "11    1\n",
      "19    1\n",
      "18    1\n",
      "17    1\n",
      "16    1\n",
      "15    1\n",
      "14    1\n",
      "13    1\n",
      "12    1\n",
      "10    1\n",
      "21    1\n",
      "9     1\n",
      "8     1\n",
      "7     1\n",
      "6     1\n",
      "5     1\n",
      "4     1\n",
      "3     1\n",
      "2     1\n",
      "20    1\n",
      "22    1\n",
      "42    1\n",
      "33    1\n",
      "41    1\n",
      "40    1\n",
      "39    1\n",
      "38    1\n",
      "37    1\n",
      "36    1\n",
      "35    1\n",
      "34    1\n",
      "32    1\n",
      "23    1\n",
      "31    1\n",
      "30    1\n",
      "29    1\n",
      "28    1\n",
      "27    1\n",
      "26    1\n",
      "25    1\n",
      "24    1\n",
      "1     1\n",
      "Name: Sample ID, dtype: int64\n",
      "3.30    2\n",
      "3.09    2\n",
      "2.68    2\n",
      "1.14    1\n",
      "2.67    1\n",
      "1.87    1\n",
      "2.87    1\n",
      "1.35    1\n",
      "2.02    1\n",
      "1.49    1\n",
      "3.08    1\n",
      "1.41    1\n",
      "2.99    1\n",
      "3.16    1\n",
      "2.44    1\n",
      "1.96    1\n",
      "3.03    1\n",
      "6.69    1\n",
      "0.91    1\n",
      "0.99    1\n",
      "1.83    1\n",
      "1.78    1\n",
      "2.81    1\n",
      "1.66    1\n",
      "2.12    1\n",
      "2.53    1\n",
      "3.34    1\n",
      "2.08    1\n",
      "2.93    1\n",
      "3.42    1\n",
      "2.49    1\n",
      "2.43    1\n",
      "2.85    1\n",
      "1.70    1\n",
      "3.51    1\n",
      "2.79    1\n",
      "1.73    1\n",
      "1.62    1\n",
      "2.57    1\n",
      "1.18    1\n",
      "Name: Fat, dtype: int64\n",
      "3.29    2\n",
      "3.22    2\n",
      "3.02    2\n",
      "3.60    2\n",
      "4.07    1\n",
      "2.88    1\n",
      "3.12    1\n",
      "3.88    1\n",
      "2.98    1\n",
      "4.43    1\n",
      "2.83    1\n",
      "3.37    1\n",
      "2.81    1\n",
      "3.16    1\n",
      "2.67    1\n",
      "3.18    1\n",
      "3.47    1\n",
      "3.17    1\n",
      "4.47    1\n",
      "3.11    1\n",
      "3.56    1\n",
      "4.36    1\n",
      "3.35    1\n",
      "3.63    1\n",
      "3.59    1\n",
      "2.72    1\n",
      "2.90    1\n",
      "3.67    1\n",
      "3.90    1\n",
      "3.74    1\n",
      "3.48    1\n",
      "3.85    1\n",
      "3.65    1\n",
      "4.02    1\n",
      "3.54    1\n",
      "3.39    1\n",
      "3.58    1\n",
      "4.73    1\n",
      "2.82    1\n",
      "Name: Pro, dtype: int64\n",
      "3.93    2\n",
      "4.66    2\n",
      "4.39    2\n",
      "4.06    2\n",
      "3.73    2\n",
      "4.31    1\n",
      "4.86    1\n",
      "4.60    1\n",
      "2.79    1\n",
      "4.04    1\n",
      "4.18    1\n",
      "2.82    1\n",
      "4.10    1\n",
      "4.62    1\n",
      "1.72    1\n",
      "3.47    1\n",
      "3.39    1\n",
      "4.72    1\n",
      "4.08    1\n",
      "4.94    1\n",
      "4.26    1\n",
      "4.92    1\n",
      "4.02    1\n",
      "4.01    1\n",
      "4.32    1\n",
      "4.69    1\n",
      "4.56    1\n",
      "4.46    1\n",
      "4.80    1\n",
      "3.54    1\n",
      "3.31    1\n",
      "3.72    1\n",
      "5.03    1\n",
      "2.46    1\n",
      "4.81    1\n",
      "4.82    1\n",
      "5.02    1\n",
      "4.50    1\n",
      "Name: Lac, dtype: int64\n",
      "9.15    2\n",
      "7.94    2\n",
      "8.58    2\n",
      "7.81    1\n",
      "8.65    1\n",
      "9.20    1\n",
      "7.44    1\n",
      "8.05    1\n",
      "8.45    1\n",
      "8.52    1\n",
      "8.61    1\n",
      "8.43    1\n",
      "6.66    1\n",
      "8.53    1\n",
      "8.26    1\n",
      "8.68    1\n",
      "7.91    1\n",
      "8.63    1\n",
      "6.78    1\n",
      "8.34    1\n",
      "9.70    1\n",
      "9.33    1\n",
      "8.92    1\n",
      "7.95    1\n",
      "9.27    1\n",
      "8.13    1\n",
      "8.72    1\n",
      "8.80    1\n",
      "8.60    1\n",
      "8.71    1\n",
      "8.15    1\n",
      "8.40    1\n",
      "8.85    1\n",
      "7.77    1\n",
      "8.57    1\n",
      "8.66    1\n",
      "8.84    1\n",
      "8.03    1\n",
      "9.57    1\n",
      "8.44    1\n",
      "Name: Snf, dtype: int64\n",
      "7.0     2\n",
      "11.3    2\n",
      "4.4     2\n",
      "10.0    2\n",
      "12.1    2\n",
      "9.1     1\n",
      "12.0    1\n",
      "8.2     1\n",
      "9.8     1\n",
      "10.4    1\n",
      "11.1    1\n",
      "11.8    1\n",
      "11.5    1\n",
      "12.5    1\n",
      "10.2    1\n",
      "9.4     1\n",
      "7.7     1\n",
      "14.0    1\n",
      "9.5     1\n",
      "9.6     1\n",
      "8.7     1\n",
      "8.9     1\n",
      "10.8    1\n",
      "14.9    1\n",
      "14.1    1\n",
      "15.1    1\n",
      "11.4    1\n",
      "12.9    1\n",
      "9.9     1\n",
      "13.1    1\n",
      "12.6    1\n",
      "10.7    1\n",
      "9.2     1\n",
      "6.7     1\n",
      "15.4    1\n",
      "9.7     1\n",
      "9.3     1\n",
      "8.0     1\n",
      "Name: Mun, dtype: int64\n",
      "54      2\n",
      "135     2\n",
      "16      2\n",
      "319     1\n",
      "523     1\n",
      "21      1\n",
      "147     1\n",
      "274     1\n",
      "977     1\n",
      "15      1\n",
      "1294    1\n",
      "202     1\n",
      "136     1\n",
      "521     1\n",
      "200     1\n",
      "267     1\n",
      "3203    1\n",
      "53      1\n",
      "65      1\n",
      "408     1\n",
      "129     1\n",
      "509     1\n",
      "64      1\n",
      "59      1\n",
      "4282    1\n",
      "121     1\n",
      "120     1\n",
      "117     1\n",
      "27      1\n",
      "166     1\n",
      "61      1\n",
      "1755    1\n",
      "487     1\n",
      "38      1\n",
      "4453    1\n",
      "1035    1\n",
      "34      1\n",
      "263     1\n",
      "28      1\n",
      "128     1\n",
      "Name: Scc, dtype: int64\n",
      "7678    1\n",
      "5453    1\n",
      "4059    1\n",
      "7386    1\n",
      "5785    1\n",
      "5894    1\n",
      "5781    1\n",
      "4690    1\n",
      "400     1\n",
      "3855    1\n",
      "2856    1\n",
      "5107    1\n",
      "7439    1\n",
      "5707    1\n",
      "1738    1\n",
      "2696    1\n",
      "5831    1\n",
      "7494    1\n",
      "5124    1\n",
      "1896    1\n",
      "7114    1\n",
      "7657    1\n",
      "7546    1\n",
      "2478    1\n",
      "5497    1\n",
      "7222    1\n",
      "7477    1\n",
      "7563    1\n",
      "5555    1\n",
      "7538    1\n",
      "674     1\n",
      "2013    1\n",
      "7553    1\n",
      "7584    1\n",
      "720     1\n",
      "3562    1\n",
      "1897    1\n",
      "2344    1\n",
      "1884    1\n",
      "5877    1\n",
      "7138    1\n",
      "7154    1\n",
      "1627    1\n",
      "Name: Cow ID, dtype: int64\n",
      "11/4/2019     3\n",
      "11/2/2019     2\n",
      "10/20/2019    2\n",
      "10/8/2019     2\n",
      "9/28/2019     2\n",
      "11/3/2019     2\n",
      "11/9/2019     2\n",
      "11/1/2019     2\n",
      "11/7/2019     1\n",
      "9/6/2019      1\n",
      "8/7/2019      1\n",
      "10/23/2019    1\n",
      "10/7/2019     1\n",
      "9/7/2019      1\n",
      "10/24/2019    1\n",
      "5/6/2019      1\n",
      "9/26/2019     1\n",
      "10/4/2019     1\n",
      "10/22/2019    1\n",
      "8/23/2019     1\n",
      "10/11/2019    1\n",
      "11/8/2019     1\n",
      "9/23/2019     1\n",
      "10/9/2019     1\n",
      "10/16/2019    1\n",
      "10/15/2019    1\n",
      "8/30/2019     1\n",
      "4/7/2019      1\n",
      "10/6/2019     1\n",
      "9/20/2019     1\n",
      "7/21/2019     1\n",
      "9/27/2019     1\n",
      "7/20/2019     1\n",
      "10/29/2019    1\n",
      "Name: Fresh date, dtype: int64\n",
      "1    14\n",
      "2    12\n",
      "4    10\n",
      "3     4\n",
      "5     2\n",
      "7     1\n",
      "Name: Lactation number, dtype: int64\n",
      "7/8/2020      8\n",
      "6/24/2020     6\n",
      "7/15/2020     4\n",
      "6/5/2020      3\n",
      "2/5/2020      2\n",
      "5/13/2020     2\n",
      "6/10/2020     2\n",
      "5/6/2020      2\n",
      "6/17/2020     2\n",
      "6/19/2020     1\n",
      "10/23/2019    1\n",
      "5/20/2020     1\n",
      "3/4/2020      1\n",
      "1/22/2020     1\n",
      "1/3/1900      1\n",
      "2/12/2020     1\n",
      "1/29/2020     1\n",
      "10/7/2019     1\n",
      "4/29/2020     1\n",
      "2/19/2020     1\n",
      "7/16/2020     1\n",
      "Name: Last move, dtype: int64\n",
      "10    12\n",
      "12    11\n",
      "11     9\n",
      "8      5\n",
      "7      2\n",
      "4      2\n",
      "14     1\n",
      "5      1\n",
      "Name: last Pen, dtype: int64\n",
      "0    28\n",
      "1     9\n",
      "5     2\n",
      "2     2\n",
      "4     1\n",
      "3     1\n",
      "Name: N clinical mastitis current lactation, dtype: int64\n",
      "12/11/2019    3\n",
      "1/7/2020      1\n",
      "11/5/2019     1\n",
      "11/6/2019     1\n",
      "12/14/2019    1\n",
      "7/20/2019     1\n",
      "11/8/2019     1\n",
      "6/10/2020     1\n",
      "6/11/2020     1\n",
      "11/2/2019     1\n",
      "9/7/2019      1\n",
      "1/26/2020     1\n",
      "4/22/2019     1\n",
      "6/23/2020     1\n",
      "10/19/2019    1\n",
      "Name: Day first CM, dtype: int64\n",
      "6/5/2020      3\n",
      "12/11/2019    1\n",
      "1/7/2020      1\n",
      "7/13/2020     1\n",
      "11/6/2019     1\n",
      "3/13/2020     1\n",
      "7/5/2020      1\n",
      "11/8/2019     1\n",
      "6/10/2020     1\n",
      "6/11/2020     1\n",
      "12/13/2019    1\n",
      "11/5/2019     1\n",
      "6/23/2020     1\n",
      "10/19/2019    1\n",
      "11/2/2019     1\n",
      "Name: Last CM, dtype: int64\n",
      "0.0      2\n",
      "43.0     1\n",
      "234.0    1\n",
      "25.0     1\n",
      "5.0      1\n",
      "1.0      1\n",
      "279.0    1\n",
      "56.0     1\n",
      "125.0    1\n",
      "183.0    1\n",
      "37.0     1\n",
      "59.0     1\n",
      "15.0     1\n",
      "29.0     1\n",
      "35.0     1\n",
      "230.0    1\n",
      "Name: N days for 1st CM case, dtype: int64\n",
      "60.0     3\n",
      "144.0    1\n",
      "42.0     1\n",
      "276.0    1\n",
      "272.0    1\n",
      "30.0     1\n",
      "270.0    1\n",
      "54.0     1\n",
      "237.0    1\n",
      "235.0    1\n",
      "273.0    1\n",
      "210.0    1\n",
      "290.0    1\n",
      "22.0     1\n",
      "55.0     1\n",
      "Name: N days from last CM to dry-off, dtype: int64\n",
      "58    2\n",
      "40    2\n",
      "43    2\n",
      "53    2\n",
      "52    2\n",
      "31    2\n",
      "49    2\n",
      "63    1\n",
      "79    1\n",
      "27    1\n",
      "89    1\n",
      "88    1\n",
      "18    1\n",
      "75    1\n",
      "14    1\n",
      "74    1\n",
      "73    1\n",
      "70    1\n",
      "68    1\n",
      "66    1\n",
      "29    1\n",
      "39    1\n",
      "96    1\n",
      "33    1\n",
      "61    1\n",
      "41    1\n",
      "44    1\n",
      "82    1\n",
      "46    1\n",
      "51    1\n",
      "54    1\n",
      "55    1\n",
      "56    1\n",
      "57    1\n",
      "60    1\n",
      "65    1\n",
      "Name: Last test-day milk production (lbs), dtype: int64\n",
      "274    3\n",
      "289    2\n",
      "276    2\n",
      "277    2\n",
      "301    2\n",
      "275    2\n",
      "311    2\n",
      "269    2\n",
      "333    1\n",
      "271    1\n",
      "287    1\n",
      "340    1\n",
      "332    1\n",
      "456    1\n",
      "280    1\n",
      "347    1\n",
      "285    1\n",
      "286    1\n",
      "319    1\n",
      "381    1\n",
      "485    1\n",
      "294    1\n",
      "298    1\n",
      "363    1\n",
      "300    1\n",
      "302    1\n",
      "303    1\n",
      "270    1\n",
      "305    1\n",
      "293    1\n",
      "312    1\n",
      "313    1\n",
      "380    1\n",
      "316    1\n",
      "Name: DIM at dry-off, dtype: int64\n",
      "8/4/2020    43\n",
      "Name: Dry-off date, dtype: int64\n",
      "Series([], Name: Obs, dtype: int64)\n"
     ]
    }
   ],
   "source": [
    "# Take a look at the different levels (focus on categorical variables)\n",
    "\n",
    "for i in df_cow:\n",
    "    print (df_cow[i].value_counts())"
   ]
  },
  {
   "cell_type": "markdown",
   "metadata": {},
   "source": [
    "<br>\n",
    "To transform the dates into timestamps, use the following:<br>\n",
    "7/30/2019 format is: '%m/%d/%Y'\n",
    "<br>"
   ]
  },
  {
   "cell_type": "code",
   "execution_count": 36,
   "metadata": {},
   "outputs": [],
   "source": [
    "# Transform any date into time stamp\n",
    "df_cow['labdate_stamp'] = pd.to_datetime(df_cow[\"Date\"], format = '%m/%d/%Y')\n",
    "df_cow['freshdate_stamp'] = pd.to_datetime(df_cow['Fresh date'], format = '%m/%d/%Y')\n",
    "df_cow['lastmovedate_stamp'] = pd.to_datetime(df_cow['Last move'], format = '%m/%d/%Y')\n",
    "df_cow['dayfirstCM_stamp'] = pd.to_datetime(df_cow['Day first CM'], format = '%m/%d/%Y')\n",
    "df_cow['daylastCM_stamp'] = pd.to_datetime(df_cow['Last CM'], format = '%m/%d/%Y')\n",
    "df_cow['dryoffdate_stamp'] = pd.to_datetime(df_cow['Dry-off date'], format = '%m/%d/%Y')"
   ]
  },
  {
   "cell_type": "code",
   "execution_count": 40,
   "metadata": {},
   "outputs": [
    {
     "data": {
      "text/html": [
       "<div>\n",
       "<style scoped>\n",
       "    .dataframe tbody tr th:only-of-type {\n",
       "        vertical-align: middle;\n",
       "    }\n",
       "\n",
       "    .dataframe tbody tr th {\n",
       "        vertical-align: top;\n",
       "    }\n",
       "\n",
       "    .dataframe thead th {\n",
       "        text-align: right;\n",
       "    }\n",
       "</style>\n",
       "<table border=\"1\" class=\"dataframe\">\n",
       "  <thead>\n",
       "    <tr style=\"text-align: right;\">\n",
       "      <th></th>\n",
       "      <th>Date</th>\n",
       "      <th>Order</th>\n",
       "      <th>Sample ID</th>\n",
       "      <th>Fat</th>\n",
       "      <th>Pro</th>\n",
       "      <th>Lac</th>\n",
       "      <th>Snf</th>\n",
       "      <th>Mun</th>\n",
       "      <th>Scc</th>\n",
       "      <th>Cow ID</th>\n",
       "      <th>...</th>\n",
       "      <th>Last test-day milk production (lbs)</th>\n",
       "      <th>DIM at dry-off</th>\n",
       "      <th>Dry-off date</th>\n",
       "      <th>Obs</th>\n",
       "      <th>labdate_stamp</th>\n",
       "      <th>freshdate_stamp</th>\n",
       "      <th>lastmovedate_stamp</th>\n",
       "      <th>dayfirstCM_stamp</th>\n",
       "      <th>daylastCM_stamp</th>\n",
       "      <th>dryoffdate_stamp</th>\n",
       "    </tr>\n",
       "  </thead>\n",
       "  <tbody>\n",
       "    <tr>\n",
       "      <th>0</th>\n",
       "      <td>8/4/2020</td>\n",
       "      <td>1</td>\n",
       "      <td>1</td>\n",
       "      <td>2.49</td>\n",
       "      <td>3.60</td>\n",
       "      <td>4.39</td>\n",
       "      <td>8.84</td>\n",
       "      <td>8.2</td>\n",
       "      <td>135</td>\n",
       "      <td>7546</td>\n",
       "      <td>...</td>\n",
       "      <td>49</td>\n",
       "      <td>300</td>\n",
       "      <td>8/4/2020</td>\n",
       "      <td>NaN</td>\n",
       "      <td>2020-08-04</td>\n",
       "      <td>2019-10-09</td>\n",
       "      <td>2020-02-05</td>\n",
       "      <td>NaT</td>\n",
       "      <td>NaT</td>\n",
       "      <td>2020-08-04</td>\n",
       "    </tr>\n",
       "    <tr>\n",
       "      <th>1</th>\n",
       "      <td>8/4/2020</td>\n",
       "      <td>2</td>\n",
       "      <td>2</td>\n",
       "      <td>3.09</td>\n",
       "      <td>3.47</td>\n",
       "      <td>4.18</td>\n",
       "      <td>8.52</td>\n",
       "      <td>10.2</td>\n",
       "      <td>135</td>\n",
       "      <td>3562</td>\n",
       "      <td>...</td>\n",
       "      <td>57</td>\n",
       "      <td>380</td>\n",
       "      <td>8/4/2020</td>\n",
       "      <td>NaN</td>\n",
       "      <td>2020-08-04</td>\n",
       "      <td>2019-07-21</td>\n",
       "      <td>2020-04-29</td>\n",
       "      <td>NaT</td>\n",
       "      <td>NaT</td>\n",
       "      <td>2020-08-04</td>\n",
       "    </tr>\n",
       "    <tr>\n",
       "      <th>2</th>\n",
       "      <td>8/4/2020</td>\n",
       "      <td>3</td>\n",
       "      <td>3</td>\n",
       "      <td>3.03</td>\n",
       "      <td>3.02</td>\n",
       "      <td>4.06</td>\n",
       "      <td>8.03</td>\n",
       "      <td>11.3</td>\n",
       "      <td>200</td>\n",
       "      <td>2478</td>\n",
       "      <td>...</td>\n",
       "      <td>56</td>\n",
       "      <td>285</td>\n",
       "      <td>8/4/2020</td>\n",
       "      <td>NaN</td>\n",
       "      <td>2020-08-04</td>\n",
       "      <td>2019-10-24</td>\n",
       "      <td>2020-07-08</td>\n",
       "      <td>2020-06-10</td>\n",
       "      <td>2020-06-10</td>\n",
       "      <td>2020-08-04</td>\n",
       "    </tr>\n",
       "    <tr>\n",
       "      <th>3</th>\n",
       "      <td>8/4/2020</td>\n",
       "      <td>4</td>\n",
       "      <td>4</td>\n",
       "      <td>3.30</td>\n",
       "      <td>3.74</td>\n",
       "      <td>3.54</td>\n",
       "      <td>8.15</td>\n",
       "      <td>9.9</td>\n",
       "      <td>509</td>\n",
       "      <td>5781</td>\n",
       "      <td>...</td>\n",
       "      <td>33</td>\n",
       "      <td>289</td>\n",
       "      <td>8/4/2020</td>\n",
       "      <td>NaN</td>\n",
       "      <td>2020-08-04</td>\n",
       "      <td>2019-10-20</td>\n",
       "      <td>2020-06-17</td>\n",
       "      <td>NaT</td>\n",
       "      <td>NaT</td>\n",
       "      <td>2020-08-04</td>\n",
       "    </tr>\n",
       "    <tr>\n",
       "      <th>4</th>\n",
       "      <td>8/4/2020</td>\n",
       "      <td>5</td>\n",
       "      <td>5</td>\n",
       "      <td>2.43</td>\n",
       "      <td>4.47</td>\n",
       "      <td>3.47</td>\n",
       "      <td>8.71</td>\n",
       "      <td>8.0</td>\n",
       "      <td>1294</td>\n",
       "      <td>2344</td>\n",
       "      <td>...</td>\n",
       "      <td>18</td>\n",
       "      <td>340</td>\n",
       "      <td>8/4/2020</td>\n",
       "      <td>NaN</td>\n",
       "      <td>2020-08-04</td>\n",
       "      <td>2019-08-30</td>\n",
       "      <td>2020-06-24</td>\n",
       "      <td>NaT</td>\n",
       "      <td>NaT</td>\n",
       "      <td>2020-08-04</td>\n",
       "    </tr>\n",
       "  </tbody>\n",
       "</table>\n",
       "<p>5 rows × 29 columns</p>\n",
       "</div>"
      ],
      "text/plain": [
       "       Date  Order  Sample ID   Fat   Pro   Lac   Snf   Mun   Scc  Cow ID  \\\n",
       "0  8/4/2020      1          1  2.49  3.60  4.39  8.84   8.2   135    7546   \n",
       "1  8/4/2020      2          2  3.09  3.47  4.18  8.52  10.2   135    3562   \n",
       "2  8/4/2020      3          3  3.03  3.02  4.06  8.03  11.3   200    2478   \n",
       "3  8/4/2020      4          4  3.30  3.74  3.54  8.15   9.9   509    5781   \n",
       "4  8/4/2020      5          5  2.43  4.47  3.47  8.71   8.0  1294    2344   \n",
       "\n",
       "         ...        Last test-day milk production (lbs)  DIM at dry-off  \\\n",
       "0        ...                                         49             300   \n",
       "1        ...                                         57             380   \n",
       "2        ...                                         56             285   \n",
       "3        ...                                         33             289   \n",
       "4        ...                                         18             340   \n",
       "\n",
       "  Dry-off date  Obs  labdate_stamp freshdate_stamp lastmovedate_stamp  \\\n",
       "0     8/4/2020  NaN     2020-08-04      2019-10-09         2020-02-05   \n",
       "1     8/4/2020  NaN     2020-08-04      2019-07-21         2020-04-29   \n",
       "2     8/4/2020  NaN     2020-08-04      2019-10-24         2020-07-08   \n",
       "3     8/4/2020  NaN     2020-08-04      2019-10-20         2020-06-17   \n",
       "4     8/4/2020  NaN     2020-08-04      2019-08-30         2020-06-24   \n",
       "\n",
       "   dayfirstCM_stamp  daylastCM_stamp  dryoffdate_stamp  \n",
       "0               NaT              NaT        2020-08-04  \n",
       "1               NaT              NaT        2020-08-04  \n",
       "2        2020-06-10       2020-06-10        2020-08-04  \n",
       "3               NaT              NaT        2020-08-04  \n",
       "4               NaT              NaT        2020-08-04  \n",
       "\n",
       "[5 rows x 29 columns]"
      ]
     },
     "execution_count": 40,
     "metadata": {},
     "output_type": "execute_result"
    }
   ],
   "source": [
    "# Take a look at what it looks like\n",
    "df_cow.head(5)"
   ]
  },
  {
   "cell_type": "code",
   "execution_count": 38,
   "metadata": {},
   "outputs": [],
   "source": [
    "# Fill-in the DIM at dry-off\n",
    "df_cow['DIM at dry-off'] = (df_cow['dryoffdate_stamp'] - df_cow['freshdate_stamp']).dt.days"
   ]
  },
  {
   "cell_type": "code",
   "execution_count": 39,
   "metadata": {},
   "outputs": [],
   "source": [
    "df_cow['N days from last CM to dry-off'] = (df_cow['dryoffdate_stamp'] - df_cow['daylastCM_stamp']).dt.days\n"
   ]
  },
  {
   "cell_type": "markdown",
   "metadata": {},
   "source": [
    "<br><br>\n",
    "## Next: merge both df using cow id. Make sure the name is the same in both dfs"
   ]
  },
  {
   "cell_type": "code",
   "execution_count": 41,
   "metadata": {},
   "outputs": [
    {
     "data": {
      "text/plain": [
       "Index([u'date', u'scc_sample_id', u'stall_number', u'cow_id', u'hygiene_score',\n",
       "       u'hygiene_score_notes', u'recorder', u'notes', u'date_stamp', u'month',\n",
       "       u'year'],\n",
       "      dtype='object')"
      ]
     },
     "execution_count": 41,
     "metadata": {},
     "output_type": "execute_result"
    }
   ],
   "source": [
    "df.columns"
   ]
  },
  {
   "cell_type": "code",
   "execution_count": 42,
   "metadata": {
    "scrolled": true
   },
   "outputs": [
    {
     "data": {
      "text/plain": [
       "Index([u'Date', u'Order', u'Sample ID', u'Fat', u'Pro', u'Lac', u'Snf', u'Mun',\n",
       "       u'Scc', u'Cow ID', u'Fresh date', u'Lactation number', u'Last move',\n",
       "       u'last Pen', u'N clinical mastitis current lactation', u'Day first CM',\n",
       "       u'Last CM', u'N days for 1st CM case',\n",
       "       u'N days from last CM to dry-off',\n",
       "       u'Last test-day milk production (lbs)', u'DIM at dry-off',\n",
       "       u'Dry-off date', u'Obs', u'labdate_stamp', u'freshdate_stamp',\n",
       "       u'lastmovedate_stamp', u'dayfirstCM_stamp', u'daylastCM_stamp',\n",
       "       u'dryoffdate_stamp'],\n",
       "      dtype='object')"
      ]
     },
     "execution_count": 42,
     "metadata": {},
     "output_type": "execute_result"
    }
   ],
   "source": [
    "df_cow.columns"
   ]
  },
  {
   "cell_type": "code",
   "execution_count": 43,
   "metadata": {},
   "outputs": [],
   "source": [
    "# Change column name in the df with cow information using a dictionary\n",
    "df_cow = df_cow.rename(columns = {\"Cow ID\" : 'cow_id'})"
   ]
  },
  {
   "cell_type": "code",
   "execution_count": 44,
   "metadata": {},
   "outputs": [],
   "source": [
    "df_scoreDHIA = pd.merge(df, df_cow, on = 'cow_id', how = 'outer')"
   ]
  },
  {
   "cell_type": "code",
   "execution_count": 45,
   "metadata": {},
   "outputs": [
    {
     "data": {
      "text/plain": [
       "(43, 39)"
      ]
     },
     "execution_count": 45,
     "metadata": {},
     "output_type": "execute_result"
    }
   ],
   "source": [
    "df_scoreDHIA.shape"
   ]
  },
  {
   "cell_type": "code",
   "execution_count": 46,
   "metadata": {},
   "outputs": [],
   "source": [
    "# Save to inspect options to automatize the identification of errors\n",
    "df_scoreDHIA.to_csv(\"/Users/gemavidal/Box Sync/Vet/Projects and Papers/2021 Chapter 4 Dissertation High SCC Prediciton Udder Hygiene/df_scoreDHIA_08042020.csv\")\n"
   ]
  },
  {
   "cell_type": "markdown",
   "metadata": {},
   "source": [
    "### Find errors that may have arise after the merge\n",
    "<br>1. Look for duplicates under cow_id\n",
    "<br>2. Look for rows with missing labdate_stamp"
   ]
  },
  {
   "cell_type": "code",
   "execution_count": 47,
   "metadata": {},
   "outputs": [
    {
     "data": {
      "text/plain": [
       "Series([], Name: cow_id, dtype: bool)"
      ]
     },
     "execution_count": 47,
     "metadata": {},
     "output_type": "execute_result"
    }
   ],
   "source": [
    "# Find duplicates and use their df index to visualize those rows (keep in mind that the result is the duplicate only,\n",
    "# not the original and the duplicate - assuming cow_id is ordered)\n",
    "duplicates_series = df_scoreDHIA['cow_id'].duplicated()\n",
    "duplicates_series[duplicates_series == True]"
   ]
  },
  {
   "cell_type": "code",
   "execution_count": 48,
   "metadata": {
    "scrolled": true
   },
   "outputs": [],
   "source": [
    "# Take a look at them\n",
    "#df_scoreDHIA.iloc[[12, 13, 27, 28], :]"
   ]
  },
  {
   "cell_type": "code",
   "execution_count": 49,
   "metadata": {},
   "outputs": [],
   "source": [
    "#df_scoreDHIA.loc[(df_scoreDHIA['cow_id'] == 7274)]"
   ]
  },
  {
   "cell_type": "code",
   "execution_count": 50,
   "metadata": {
    "scrolled": false
   },
   "outputs": [
    {
     "data": {
      "text/html": [
       "<div>\n",
       "<style scoped>\n",
       "    .dataframe tbody tr th:only-of-type {\n",
       "        vertical-align: middle;\n",
       "    }\n",
       "\n",
       "    .dataframe tbody tr th {\n",
       "        vertical-align: top;\n",
       "    }\n",
       "\n",
       "    .dataframe thead th {\n",
       "        text-align: right;\n",
       "    }\n",
       "</style>\n",
       "<table border=\"1\" class=\"dataframe\">\n",
       "  <thead>\n",
       "    <tr style=\"text-align: right;\">\n",
       "      <th></th>\n",
       "      <th>date</th>\n",
       "      <th>scc_sample_id</th>\n",
       "      <th>stall_number</th>\n",
       "      <th>cow_id</th>\n",
       "      <th>hygiene_score</th>\n",
       "      <th>hygiene_score_notes</th>\n",
       "      <th>recorder</th>\n",
       "      <th>notes</th>\n",
       "      <th>date_stamp</th>\n",
       "      <th>month</th>\n",
       "      <th>...</th>\n",
       "      <th>Last test-day milk production (lbs)</th>\n",
       "      <th>DIM at dry-off</th>\n",
       "      <th>Dry-off date</th>\n",
       "      <th>Obs</th>\n",
       "      <th>labdate_stamp</th>\n",
       "      <th>freshdate_stamp</th>\n",
       "      <th>lastmovedate_stamp</th>\n",
       "      <th>dayfirstCM_stamp</th>\n",
       "      <th>daylastCM_stamp</th>\n",
       "      <th>dryoffdate_stamp</th>\n",
       "    </tr>\n",
       "  </thead>\n",
       "  <tbody>\n",
       "  </tbody>\n",
       "</table>\n",
       "<p>0 rows × 39 columns</p>\n",
       "</div>"
      ],
      "text/plain": [
       "Empty DataFrame\n",
       "Columns: [date, scc_sample_id, stall_number, cow_id, hygiene_score, hygiene_score_notes, recorder, notes, date_stamp, month, year, Date, Order, Sample ID, Fat, Pro, Lac, Snf, Mun, Scc, Fresh date, Lactation number, Last move, last Pen, N clinical mastitis current lactation, Day first CM, Last CM, N days for 1st CM case, N days from last CM to dry-off, Last test-day milk production (lbs), DIM at dry-off, Dry-off date, Obs, labdate_stamp, freshdate_stamp, lastmovedate_stamp, dayfirstCM_stamp, daylastCM_stamp, dryoffdate_stamp]\n",
       "Index: []\n",
       "\n",
       "[0 rows x 39 columns]"
      ]
     },
     "execution_count": 50,
     "metadata": {},
     "output_type": "execute_result"
    }
   ],
   "source": [
    "# Find missing laboratory results\n",
    "df_scoreDHIA.loc[(df_scoreDHIA['labdate_stamp'].isnull())]"
   ]
  },
  {
   "cell_type": "markdown",
   "metadata": {},
   "source": [
    "### Next: make a decision about how to deal with missing lab data, and how to deal with duplicates"
   ]
  },
  {
   "cell_type": "markdown",
   "metadata": {},
   "source": [
    "### 2-June-2020:\n",
    "Cows 6350 and 7274 were duplicates; 6350 is a real duplicate but with slightly different lab results. 7274 was wrongly labeled in the tubes, and one of the lab results most likely belongs to cow 1028, that right now, it has missing data.<br><br>\n",
    "Decisions: <br>\n",
    "remove row 12 since either cow would be possible and there is no way to tell them apart <br>\n",
    "remove cow_id 7274 because we can't tell which on is which. Leave cow_id 1028 because we could get her information later."
   ]
  },
  {
   "cell_type": "markdown",
   "metadata": {},
   "source": [
    "### 30-June-2020; 4-August-2020:\n",
    "There are no missing data"
   ]
  },
  {
   "cell_type": "code",
   "execution_count": 71,
   "metadata": {},
   "outputs": [
    {
     "data": {
      "text/plain": [
       "(35, 39)"
      ]
     },
     "execution_count": 71,
     "metadata": {},
     "output_type": "execute_result"
    }
   ],
   "source": [
    "#df_scoreDHIA = df_scoreDHIA.drop([12, 27])\n",
    "#df_scoreDHIA = df_scoreDHIA.loc[(df_scoreDHIA['cow_id'] != 1028)]\n",
    "\n",
    "\n",
    "# Double-check there is one row less in the dataframe\n",
    "#df_scoreDHIA.shape"
   ]
  },
  {
   "cell_type": "code",
   "execution_count": 72,
   "metadata": {},
   "outputs": [
    {
     "data": {
      "text/plain": [
       "Series([], Name: cow_id, dtype: bool)"
      ]
     },
     "execution_count": 72,
     "metadata": {},
     "output_type": "execute_result"
    }
   ],
   "source": [
    "# Make sure I removed the duplicates\n",
    "#duplicates_series = df_scoreDHIA['cow_id'].duplicated()\n",
    "#duplicates_series[duplicates_series == True]"
   ]
  },
  {
   "cell_type": "code",
   "execution_count": 33,
   "metadata": {},
   "outputs": [],
   "source": [
    "# Save to inspect options to automatize the identification of errors\n",
    "df_scoreDHIA.to_csv(\"/Users/gemavidal/Box Sync/Vet/Projects and Papers/2021 Chapter 3 Dissertation High SCC Prediciton Udder Hygiene/df_scoreDHIA_06302020.csv\")\n",
    "\n"
   ]
  },
  {
   "cell_type": "markdown",
   "metadata": {},
   "source": [
    "## Calculations with dates"
   ]
  },
  {
   "cell_type": "markdown",
   "metadata": {},
   "source": [
    "### 1. Number of days between last clinical mastitis and dry-off date"
   ]
  },
  {
   "cell_type": "code",
   "execution_count": 51,
   "metadata": {
    "scrolled": true
   },
   "outputs": [
    {
     "data": {
      "text/html": [
       "<div>\n",
       "<style scoped>\n",
       "    .dataframe tbody tr th:only-of-type {\n",
       "        vertical-align: middle;\n",
       "    }\n",
       "\n",
       "    .dataframe tbody tr th {\n",
       "        vertical-align: top;\n",
       "    }\n",
       "\n",
       "    .dataframe thead th {\n",
       "        text-align: right;\n",
       "    }\n",
       "</style>\n",
       "<table border=\"1\" class=\"dataframe\">\n",
       "  <thead>\n",
       "    <tr style=\"text-align: right;\">\n",
       "      <th></th>\n",
       "      <th>date</th>\n",
       "      <th>scc_sample_id</th>\n",
       "      <th>stall_number</th>\n",
       "      <th>cow_id</th>\n",
       "      <th>hygiene_score</th>\n",
       "      <th>hygiene_score_notes</th>\n",
       "      <th>recorder</th>\n",
       "      <th>notes</th>\n",
       "      <th>date_stamp</th>\n",
       "      <th>month</th>\n",
       "      <th>...</th>\n",
       "      <th>Last test-day milk production (lbs)</th>\n",
       "      <th>DIM at dry-off</th>\n",
       "      <th>Dry-off date</th>\n",
       "      <th>Obs</th>\n",
       "      <th>labdate_stamp</th>\n",
       "      <th>freshdate_stamp</th>\n",
       "      <th>lastmovedate_stamp</th>\n",
       "      <th>dayfirstCM_stamp</th>\n",
       "      <th>daylastCM_stamp</th>\n",
       "      <th>dryoffdate_stamp</th>\n",
       "    </tr>\n",
       "  </thead>\n",
       "  <tbody>\n",
       "  </tbody>\n",
       "</table>\n",
       "<p>0 rows × 39 columns</p>\n",
       "</div>"
      ],
      "text/plain": [
       "Empty DataFrame\n",
       "Columns: [date, scc_sample_id, stall_number, cow_id, hygiene_score, hygiene_score_notes, recorder, notes, date_stamp, month, year, Date, Order, Sample ID, Fat, Pro, Lac, Snf, Mun, Scc, Fresh date, Lactation number, Last move, last Pen, N clinical mastitis current lactation, Day first CM, Last CM, N days for 1st CM case, N days from last CM to dry-off, Last test-day milk production (lbs), DIM at dry-off, Dry-off date, Obs, labdate_stamp, freshdate_stamp, lastmovedate_stamp, dayfirstCM_stamp, daylastCM_stamp, dryoffdate_stamp]\n",
       "Index: []\n",
       "\n",
       "[0 rows x 39 columns]"
      ]
     },
     "execution_count": 51,
     "metadata": {},
     "output_type": "execute_result"
    }
   ],
   "source": [
    "# Looking for errors with the notation of dates\n",
    "# If the animal had at least 1 clinical mastitis, it should have at least the date for first clinical mastitis\n",
    "\n",
    "df_scoreDHIA.loc[(df_scoreDHIA['N clinical mastitis current lactation'] > 0) & (df_scoreDHIA['dayfirstCM_stamp'].isnull())]\n"
   ]
  },
  {
   "cell_type": "markdown",
   "metadata": {},
   "source": [
    "#### Solution: \n",
    "For those rows where 'N clinical mastitis current lactation' == 1, fill 'daylastCM_stamp' with whatever is under the field 'dayfirstCM_stamp'\n",
    "<br>"
   ]
  },
  {
   "cell_type": "code",
   "execution_count": 52,
   "metadata": {},
   "outputs": [
    {
     "data": {
      "text/html": [
       "<div>\n",
       "<style scoped>\n",
       "    .dataframe tbody tr th:only-of-type {\n",
       "        vertical-align: middle;\n",
       "    }\n",
       "\n",
       "    .dataframe tbody tr th {\n",
       "        vertical-align: top;\n",
       "    }\n",
       "\n",
       "    .dataframe thead th {\n",
       "        text-align: right;\n",
       "    }\n",
       "</style>\n",
       "<table border=\"1\" class=\"dataframe\">\n",
       "  <thead>\n",
       "    <tr style=\"text-align: right;\">\n",
       "      <th></th>\n",
       "      <th>date</th>\n",
       "      <th>scc_sample_id</th>\n",
       "      <th>stall_number</th>\n",
       "      <th>cow_id</th>\n",
       "      <th>hygiene_score</th>\n",
       "      <th>hygiene_score_notes</th>\n",
       "      <th>recorder</th>\n",
       "      <th>notes</th>\n",
       "      <th>date_stamp</th>\n",
       "      <th>month</th>\n",
       "      <th>...</th>\n",
       "      <th>Last test-day milk production (lbs)</th>\n",
       "      <th>DIM at dry-off</th>\n",
       "      <th>Dry-off date</th>\n",
       "      <th>Obs</th>\n",
       "      <th>labdate_stamp</th>\n",
       "      <th>freshdate_stamp</th>\n",
       "      <th>lastmovedate_stamp</th>\n",
       "      <th>dayfirstCM_stamp</th>\n",
       "      <th>daylastCM_stamp</th>\n",
       "      <th>dryoffdate_stamp</th>\n",
       "    </tr>\n",
       "  </thead>\n",
       "  <tbody>\n",
       "  </tbody>\n",
       "</table>\n",
       "<p>0 rows × 39 columns</p>\n",
       "</div>"
      ],
      "text/plain": [
       "Empty DataFrame\n",
       "Columns: [date, scc_sample_id, stall_number, cow_id, hygiene_score, hygiene_score_notes, recorder, notes, date_stamp, month, year, Date, Order, Sample ID, Fat, Pro, Lac, Snf, Mun, Scc, Fresh date, Lactation number, Last move, last Pen, N clinical mastitis current lactation, Day first CM, Last CM, N days for 1st CM case, N days from last CM to dry-off, Last test-day milk production (lbs), DIM at dry-off, Dry-off date, Obs, labdate_stamp, freshdate_stamp, lastmovedate_stamp, dayfirstCM_stamp, daylastCM_stamp, dryoffdate_stamp]\n",
       "Index: []\n",
       "\n",
       "[0 rows x 39 columns]"
      ]
     },
     "execution_count": 52,
     "metadata": {},
     "output_type": "execute_result"
    }
   ],
   "source": [
    "df_scoreDHIA.loc[(df_scoreDHIA['N clinical mastitis current lactation'] == 1) & (df_scoreDHIA['daylastCM_stamp'].isnull())]\n"
   ]
  },
  {
   "cell_type": "markdown",
   "metadata": {},
   "source": [
    "### 2. Calculate the difference between dryoffdate_stamp and daylastCM_stamp"
   ]
  },
  {
   "cell_type": "code",
   "execution_count": 54,
   "metadata": {},
   "outputs": [],
   "source": [
    "df_scoreDHIA['diff_dryoff_lastCM'] = (df_scoreDHIA['dryoffdate_stamp'] - df_scoreDHIA['daylastCM_stamp']).dt.days"
   ]
  },
  {
   "cell_type": "markdown",
   "metadata": {},
   "source": [
    "<br>\n",
    "### 3. Calculate the difference between dryoffdate_stamp and lastmovedate_stamp"
   ]
  },
  {
   "cell_type": "markdown",
   "metadata": {},
   "source": [
    "Here, we are worried about those cows that were moved within the study period, so we want them to had been moved at least 14 days before the dry-off date.\n",
    "<br><br>"
   ]
  },
  {
   "cell_type": "code",
   "execution_count": 55,
   "metadata": {},
   "outputs": [],
   "source": [
    "df_scoreDHIA['diff_penmovement'] = (df_scoreDHIA['dryoffdate_stamp'] - df_scoreDHIA['lastmovedate_stamp']).dt.days"
   ]
  },
  {
   "cell_type": "code",
   "execution_count": 56,
   "metadata": {},
   "outputs": [
    {
     "data": {
      "text/html": [
       "<div>\n",
       "<style scoped>\n",
       "    .dataframe tbody tr th:only-of-type {\n",
       "        vertical-align: middle;\n",
       "    }\n",
       "\n",
       "    .dataframe tbody tr th {\n",
       "        vertical-align: top;\n",
       "    }\n",
       "\n",
       "    .dataframe thead th {\n",
       "        text-align: right;\n",
       "    }\n",
       "</style>\n",
       "<table border=\"1\" class=\"dataframe\">\n",
       "  <thead>\n",
       "    <tr style=\"text-align: right;\">\n",
       "      <th></th>\n",
       "      <th>date</th>\n",
       "      <th>scc_sample_id</th>\n",
       "      <th>stall_number</th>\n",
       "      <th>cow_id</th>\n",
       "      <th>hygiene_score</th>\n",
       "      <th>hygiene_score_notes</th>\n",
       "      <th>recorder</th>\n",
       "      <th>notes</th>\n",
       "      <th>date_stamp</th>\n",
       "      <th>month</th>\n",
       "      <th>...</th>\n",
       "      <th>Dry-off date</th>\n",
       "      <th>Obs</th>\n",
       "      <th>labdate_stamp</th>\n",
       "      <th>freshdate_stamp</th>\n",
       "      <th>lastmovedate_stamp</th>\n",
       "      <th>dayfirstCM_stamp</th>\n",
       "      <th>daylastCM_stamp</th>\n",
       "      <th>dryoffdate_stamp</th>\n",
       "      <th>diff_dryoff_lastCM</th>\n",
       "      <th>diff_penmovement</th>\n",
       "    </tr>\n",
       "  </thead>\n",
       "  <tbody>\n",
       "  </tbody>\n",
       "</table>\n",
       "<p>0 rows × 41 columns</p>\n",
       "</div>"
      ],
      "text/plain": [
       "Empty DataFrame\n",
       "Columns: [date, scc_sample_id, stall_number, cow_id, hygiene_score, hygiene_score_notes, recorder, notes, date_stamp, month, year, Date, Order, Sample ID, Fat, Pro, Lac, Snf, Mun, Scc, Fresh date, Lactation number, Last move, last Pen, N clinical mastitis current lactation, Day first CM, Last CM, N days for 1st CM case, N days from last CM to dry-off, Last test-day milk production (lbs), DIM at dry-off, Dry-off date, Obs, labdate_stamp, freshdate_stamp, lastmovedate_stamp, dayfirstCM_stamp, daylastCM_stamp, dryoffdate_stamp, diff_dryoff_lastCM, diff_penmovement]\n",
       "Index: []\n",
       "\n",
       "[0 rows x 41 columns]"
      ]
     },
     "execution_count": 56,
     "metadata": {},
     "output_type": "execute_result"
    }
   ],
   "source": [
    "#df_scoreDHIA.loc[(df_scoreDHIA['diff_penmovement'] < pd.Timedelta('14 days'))]\n",
    "df_scoreDHIA.loc[(df_scoreDHIA['diff_penmovement'] < 14)]\n",
    "\n"
   ]
  },
  {
   "cell_type": "code",
   "execution_count": 57,
   "metadata": {},
   "outputs": [
    {
     "data": {
      "text/html": [
       "<div>\n",
       "<style scoped>\n",
       "    .dataframe tbody tr th:only-of-type {\n",
       "        vertical-align: middle;\n",
       "    }\n",
       "\n",
       "    .dataframe tbody tr th {\n",
       "        vertical-align: top;\n",
       "    }\n",
       "\n",
       "    .dataframe thead th {\n",
       "        text-align: right;\n",
       "    }\n",
       "</style>\n",
       "<table border=\"1\" class=\"dataframe\">\n",
       "  <thead>\n",
       "    <tr style=\"text-align: right;\">\n",
       "      <th></th>\n",
       "      <th>date</th>\n",
       "      <th>scc_sample_id</th>\n",
       "      <th>stall_number</th>\n",
       "      <th>cow_id</th>\n",
       "      <th>hygiene_score</th>\n",
       "      <th>hygiene_score_notes</th>\n",
       "      <th>recorder</th>\n",
       "      <th>notes</th>\n",
       "      <th>date_stamp</th>\n",
       "      <th>month</th>\n",
       "      <th>...</th>\n",
       "      <th>Dry-off date</th>\n",
       "      <th>Obs</th>\n",
       "      <th>labdate_stamp</th>\n",
       "      <th>freshdate_stamp</th>\n",
       "      <th>lastmovedate_stamp</th>\n",
       "      <th>dayfirstCM_stamp</th>\n",
       "      <th>daylastCM_stamp</th>\n",
       "      <th>dryoffdate_stamp</th>\n",
       "      <th>diff_dryoff_lastCM</th>\n",
       "      <th>diff_penmovement</th>\n",
       "    </tr>\n",
       "  </thead>\n",
       "  <tbody>\n",
       "    <tr>\n",
       "      <th>2</th>\n",
       "      <td>4-Aug-20</td>\n",
       "      <td>3</td>\n",
       "      <td>55</td>\n",
       "      <td>2478</td>\n",
       "      <td>1</td>\n",
       "      <td>NaN</td>\n",
       "      <td>daniela</td>\n",
       "      <td>NaN</td>\n",
       "      <td>2020-08-04</td>\n",
       "      <td>8</td>\n",
       "      <td>...</td>\n",
       "      <td>8/4/2020</td>\n",
       "      <td>NaN</td>\n",
       "      <td>2020-08-04</td>\n",
       "      <td>2019-10-24</td>\n",
       "      <td>2020-07-08</td>\n",
       "      <td>2020-06-10</td>\n",
       "      <td>2020-06-10</td>\n",
       "      <td>2020-08-04</td>\n",
       "      <td>55.0</td>\n",
       "      <td>27</td>\n",
       "    </tr>\n",
       "    <tr>\n",
       "      <th>4</th>\n",
       "      <td>4-Aug-20</td>\n",
       "      <td>5</td>\n",
       "      <td>57</td>\n",
       "      <td>2344</td>\n",
       "      <td>3</td>\n",
       "      <td>NaN</td>\n",
       "      <td>daniela</td>\n",
       "      <td>NaN</td>\n",
       "      <td>2020-08-04</td>\n",
       "      <td>8</td>\n",
       "      <td>...</td>\n",
       "      <td>8/4/2020</td>\n",
       "      <td>NaN</td>\n",
       "      <td>2020-08-04</td>\n",
       "      <td>2019-08-30</td>\n",
       "      <td>2020-06-24</td>\n",
       "      <td>NaT</td>\n",
       "      <td>NaT</td>\n",
       "      <td>2020-08-04</td>\n",
       "      <td>NaN</td>\n",
       "      <td>41</td>\n",
       "    </tr>\n",
       "    <tr>\n",
       "      <th>5</th>\n",
       "      <td>4-Aug-20</td>\n",
       "      <td>6</td>\n",
       "      <td>58</td>\n",
       "      <td>3855</td>\n",
       "      <td>1</td>\n",
       "      <td>NaN</td>\n",
       "      <td>daniela</td>\n",
       "      <td>NaN</td>\n",
       "      <td>2020-08-04</td>\n",
       "      <td>8</td>\n",
       "      <td>...</td>\n",
       "      <td>8/4/2020</td>\n",
       "      <td>NaN</td>\n",
       "      <td>2020-08-04</td>\n",
       "      <td>2019-11-09</td>\n",
       "      <td>2020-07-16</td>\n",
       "      <td>2019-12-14</td>\n",
       "      <td>2020-07-13</td>\n",
       "      <td>2020-08-04</td>\n",
       "      <td>22.0</td>\n",
       "      <td>19</td>\n",
       "    </tr>\n",
       "    <tr>\n",
       "      <th>6</th>\n",
       "      <td>4-Aug-20</td>\n",
       "      <td>7</td>\n",
       "      <td>59</td>\n",
       "      <td>5831</td>\n",
       "      <td>1</td>\n",
       "      <td>NaN</td>\n",
       "      <td>daniela</td>\n",
       "      <td>NaN</td>\n",
       "      <td>2020-08-04</td>\n",
       "      <td>8</td>\n",
       "      <td>...</td>\n",
       "      <td>8/4/2020</td>\n",
       "      <td>NaN</td>\n",
       "      <td>2020-08-04</td>\n",
       "      <td>2019-10-15</td>\n",
       "      <td>2020-07-08</td>\n",
       "      <td>NaT</td>\n",
       "      <td>NaT</td>\n",
       "      <td>2020-08-04</td>\n",
       "      <td>NaN</td>\n",
       "      <td>27</td>\n",
       "    </tr>\n",
       "    <tr>\n",
       "      <th>11</th>\n",
       "      <td>4-Aug-20</td>\n",
       "      <td>12</td>\n",
       "      <td>64</td>\n",
       "      <td>4690</td>\n",
       "      <td>2</td>\n",
       "      <td>NaN</td>\n",
       "      <td>daniela</td>\n",
       "      <td>NaN</td>\n",
       "      <td>2020-08-04</td>\n",
       "      <td>8</td>\n",
       "      <td>...</td>\n",
       "      <td>8/4/2020</td>\n",
       "      <td>NaN</td>\n",
       "      <td>2020-08-04</td>\n",
       "      <td>2019-04-07</td>\n",
       "      <td>2020-07-15</td>\n",
       "      <td>2019-04-22</td>\n",
       "      <td>2020-06-05</td>\n",
       "      <td>2020-08-04</td>\n",
       "      <td>60.0</td>\n",
       "      <td>20</td>\n",
       "    </tr>\n",
       "    <tr>\n",
       "      <th>12</th>\n",
       "      <td>4-Aug-20</td>\n",
       "      <td>13</td>\n",
       "      <td>65</td>\n",
       "      <td>2856</td>\n",
       "      <td>1</td>\n",
       "      <td>NaN</td>\n",
       "      <td>daniela</td>\n",
       "      <td>NaN</td>\n",
       "      <td>2020-08-04</td>\n",
       "      <td>8</td>\n",
       "      <td>...</td>\n",
       "      <td>8/4/2020</td>\n",
       "      <td>NaN</td>\n",
       "      <td>2020-08-04</td>\n",
       "      <td>2019-11-09</td>\n",
       "      <td>2020-07-15</td>\n",
       "      <td>2020-01-07</td>\n",
       "      <td>2020-01-07</td>\n",
       "      <td>2020-08-04</td>\n",
       "      <td>210.0</td>\n",
       "      <td>20</td>\n",
       "    </tr>\n",
       "    <tr>\n",
       "      <th>13</th>\n",
       "      <td>4-Aug-20</td>\n",
       "      <td>14</td>\n",
       "      <td>66</td>\n",
       "      <td>400</td>\n",
       "      <td>2</td>\n",
       "      <td>NaN</td>\n",
       "      <td>daniela</td>\n",
       "      <td>NaN</td>\n",
       "      <td>2020-08-04</td>\n",
       "      <td>8</td>\n",
       "      <td>...</td>\n",
       "      <td>8/4/2020</td>\n",
       "      <td>NaN</td>\n",
       "      <td>2020-08-04</td>\n",
       "      <td>2019-11-02</td>\n",
       "      <td>2020-07-08</td>\n",
       "      <td>NaT</td>\n",
       "      <td>NaT</td>\n",
       "      <td>2020-08-04</td>\n",
       "      <td>NaN</td>\n",
       "      <td>27</td>\n",
       "    </tr>\n",
       "    <tr>\n",
       "      <th>14</th>\n",
       "      <td>4-Aug-20</td>\n",
       "      <td>15</td>\n",
       "      <td>67</td>\n",
       "      <td>7494</td>\n",
       "      <td>2</td>\n",
       "      <td>NaN</td>\n",
       "      <td>daniela</td>\n",
       "      <td>NaN</td>\n",
       "      <td>2020-08-04</td>\n",
       "      <td>8</td>\n",
       "      <td>...</td>\n",
       "      <td>8/4/2020</td>\n",
       "      <td>NaN</td>\n",
       "      <td>2020-08-04</td>\n",
       "      <td>2019-10-22</td>\n",
       "      <td>2020-07-08</td>\n",
       "      <td>NaT</td>\n",
       "      <td>NaT</td>\n",
       "      <td>2020-08-04</td>\n",
       "      <td>NaN</td>\n",
       "      <td>27</td>\n",
       "    </tr>\n",
       "    <tr>\n",
       "      <th>17</th>\n",
       "      <td>4-Aug-20</td>\n",
       "      <td>18</td>\n",
       "      <td>70</td>\n",
       "      <td>1897</td>\n",
       "      <td>2</td>\n",
       "      <td>NaN</td>\n",
       "      <td>daniela</td>\n",
       "      <td>NaN</td>\n",
       "      <td>2020-08-04</td>\n",
       "      <td>8</td>\n",
       "      <td>...</td>\n",
       "      <td>8/4/2020</td>\n",
       "      <td>NaN</td>\n",
       "      <td>2020-08-04</td>\n",
       "      <td>2019-11-04</td>\n",
       "      <td>2020-07-08</td>\n",
       "      <td>2019-12-11</td>\n",
       "      <td>2020-06-05</td>\n",
       "      <td>2020-08-04</td>\n",
       "      <td>60.0</td>\n",
       "      <td>27</td>\n",
       "    </tr>\n",
       "    <tr>\n",
       "      <th>19</th>\n",
       "      <td>4-Aug-20</td>\n",
       "      <td>20</td>\n",
       "      <td>1</td>\n",
       "      <td>2696</td>\n",
       "      <td>2</td>\n",
       "      <td>NaN</td>\n",
       "      <td>daniela</td>\n",
       "      <td>NaN</td>\n",
       "      <td>2020-08-04</td>\n",
       "      <td>8</td>\n",
       "      <td>...</td>\n",
       "      <td>8/4/2020</td>\n",
       "      <td>NaN</td>\n",
       "      <td>2020-08-04</td>\n",
       "      <td>2019-05-06</td>\n",
       "      <td>2020-07-15</td>\n",
       "      <td>2019-11-05</td>\n",
       "      <td>2019-11-05</td>\n",
       "      <td>2020-08-04</td>\n",
       "      <td>273.0</td>\n",
       "      <td>20</td>\n",
       "    </tr>\n",
       "    <tr>\n",
       "      <th>20</th>\n",
       "      <td>4-Aug-20</td>\n",
       "      <td>21</td>\n",
       "      <td>2</td>\n",
       "      <td>7538</td>\n",
       "      <td>1</td>\n",
       "      <td>NaN</td>\n",
       "      <td>daniela</td>\n",
       "      <td>NaN</td>\n",
       "      <td>2020-08-04</td>\n",
       "      <td>8</td>\n",
       "      <td>...</td>\n",
       "      <td>8/4/2020</td>\n",
       "      <td>NaN</td>\n",
       "      <td>2020-08-04</td>\n",
       "      <td>2019-10-20</td>\n",
       "      <td>2020-06-24</td>\n",
       "      <td>NaT</td>\n",
       "      <td>NaT</td>\n",
       "      <td>2020-08-04</td>\n",
       "      <td>NaN</td>\n",
       "      <td>41</td>\n",
       "    </tr>\n",
       "    <tr>\n",
       "      <th>24</th>\n",
       "      <td>4-Aug-20</td>\n",
       "      <td>43</td>\n",
       "      <td>6</td>\n",
       "      <td>5877</td>\n",
       "      <td>1</td>\n",
       "      <td>NaN</td>\n",
       "      <td>gema</td>\n",
       "      <td>NaN</td>\n",
       "      <td>2020-08-04</td>\n",
       "      <td>8</td>\n",
       "      <td>...</td>\n",
       "      <td>8/4/2020</td>\n",
       "      <td>NaN</td>\n",
       "      <td>2020-08-04</td>\n",
       "      <td>2019-10-04</td>\n",
       "      <td>2020-06-24</td>\n",
       "      <td>NaT</td>\n",
       "      <td>NaT</td>\n",
       "      <td>2020-08-04</td>\n",
       "      <td>NaN</td>\n",
       "      <td>41</td>\n",
       "    </tr>\n",
       "    <tr>\n",
       "      <th>27</th>\n",
       "      <td>4-Aug-20</td>\n",
       "      <td>40</td>\n",
       "      <td>9</td>\n",
       "      <td>5453</td>\n",
       "      <td>3</td>\n",
       "      <td>NaN</td>\n",
       "      <td>gema</td>\n",
       "      <td>NaN</td>\n",
       "      <td>2020-08-04</td>\n",
       "      <td>8</td>\n",
       "      <td>...</td>\n",
       "      <td>8/4/2020</td>\n",
       "      <td>NaN</td>\n",
       "      <td>2020-08-04</td>\n",
       "      <td>2019-11-02</td>\n",
       "      <td>2020-07-08</td>\n",
       "      <td>2020-06-23</td>\n",
       "      <td>2020-06-23</td>\n",
       "      <td>2020-08-04</td>\n",
       "      <td>42.0</td>\n",
       "      <td>27</td>\n",
       "    </tr>\n",
       "    <tr>\n",
       "      <th>28</th>\n",
       "      <td>4-Aug-20</td>\n",
       "      <td>39</td>\n",
       "      <td>10</td>\n",
       "      <td>674</td>\n",
       "      <td>2</td>\n",
       "      <td>NaN</td>\n",
       "      <td>gema</td>\n",
       "      <td>NaN</td>\n",
       "      <td>2020-08-04</td>\n",
       "      <td>8</td>\n",
       "      <td>...</td>\n",
       "      <td>8/4/2020</td>\n",
       "      <td>NaN</td>\n",
       "      <td>2020-08-04</td>\n",
       "      <td>2019-10-08</td>\n",
       "      <td>2020-06-24</td>\n",
       "      <td>2019-11-02</td>\n",
       "      <td>2019-11-02</td>\n",
       "      <td>2020-08-04</td>\n",
       "      <td>276.0</td>\n",
       "      <td>41</td>\n",
       "    </tr>\n",
       "    <tr>\n",
       "      <th>30</th>\n",
       "      <td>4-Aug-20</td>\n",
       "      <td>37</td>\n",
       "      <td>12</td>\n",
       "      <td>2013</td>\n",
       "      <td>2</td>\n",
       "      <td>NaN</td>\n",
       "      <td>gema</td>\n",
       "      <td>NaN</td>\n",
       "      <td>2020-08-04</td>\n",
       "      <td>8</td>\n",
       "      <td>...</td>\n",
       "      <td>8/4/2020</td>\n",
       "      <td>NaN</td>\n",
       "      <td>2020-08-04</td>\n",
       "      <td>2019-07-20</td>\n",
       "      <td>2020-07-15</td>\n",
       "      <td>2019-07-20</td>\n",
       "      <td>2020-07-05</td>\n",
       "      <td>2020-08-04</td>\n",
       "      <td>30.0</td>\n",
       "      <td>20</td>\n",
       "    </tr>\n",
       "    <tr>\n",
       "      <th>32</th>\n",
       "      <td>4-Aug-20</td>\n",
       "      <td>35</td>\n",
       "      <td>14</td>\n",
       "      <td>7439</td>\n",
       "      <td>3</td>\n",
       "      <td>NaN</td>\n",
       "      <td>gema</td>\n",
       "      <td>NaN</td>\n",
       "      <td>2020-08-04</td>\n",
       "      <td>8</td>\n",
       "      <td>...</td>\n",
       "      <td>8/4/2020</td>\n",
       "      <td>NaN</td>\n",
       "      <td>2020-08-04</td>\n",
       "      <td>2019-11-07</td>\n",
       "      <td>2020-06-24</td>\n",
       "      <td>2019-11-08</td>\n",
       "      <td>2019-11-08</td>\n",
       "      <td>2020-08-04</td>\n",
       "      <td>270.0</td>\n",
       "      <td>41</td>\n",
       "    </tr>\n",
       "    <tr>\n",
       "      <th>33</th>\n",
       "      <td>4-Aug-20</td>\n",
       "      <td>34</td>\n",
       "      <td>15</td>\n",
       "      <td>7154</td>\n",
       "      <td>1</td>\n",
       "      <td>NaN</td>\n",
       "      <td>gema</td>\n",
       "      <td>NaN</td>\n",
       "      <td>2020-08-04</td>\n",
       "      <td>8</td>\n",
       "      <td>...</td>\n",
       "      <td>8/4/2020</td>\n",
       "      <td>NaN</td>\n",
       "      <td>2020-08-04</td>\n",
       "      <td>2019-09-06</td>\n",
       "      <td>2020-07-08</td>\n",
       "      <td>2020-06-11</td>\n",
       "      <td>2020-06-11</td>\n",
       "      <td>2020-08-04</td>\n",
       "      <td>54.0</td>\n",
       "      <td>27</td>\n",
       "    </tr>\n",
       "    <tr>\n",
       "      <th>36</th>\n",
       "      <td>4-Aug-20</td>\n",
       "      <td>31</td>\n",
       "      <td>18</td>\n",
       "      <td>5107</td>\n",
       "      <td>3</td>\n",
       "      <td>NaN</td>\n",
       "      <td>gema</td>\n",
       "      <td>NaN</td>\n",
       "      <td>2020-08-04</td>\n",
       "      <td>8</td>\n",
       "      <td>...</td>\n",
       "      <td>8/4/2020</td>\n",
       "      <td>NaN</td>\n",
       "      <td>2020-08-04</td>\n",
       "      <td>2019-09-28</td>\n",
       "      <td>2020-06-24</td>\n",
       "      <td>NaT</td>\n",
       "      <td>NaT</td>\n",
       "      <td>2020-08-04</td>\n",
       "      <td>NaN</td>\n",
       "      <td>41</td>\n",
       "    </tr>\n",
       "    <tr>\n",
       "      <th>39</th>\n",
       "      <td>4-Aug-20</td>\n",
       "      <td>28</td>\n",
       "      <td>21</td>\n",
       "      <td>5497</td>\n",
       "      <td>3</td>\n",
       "      <td>NaN</td>\n",
       "      <td>gema</td>\n",
       "      <td>NaN</td>\n",
       "      <td>2020-08-04</td>\n",
       "      <td>8</td>\n",
       "      <td>...</td>\n",
       "      <td>8/4/2020</td>\n",
       "      <td>NaN</td>\n",
       "      <td>2020-08-04</td>\n",
       "      <td>2019-10-16</td>\n",
       "      <td>2020-07-08</td>\n",
       "      <td>2019-12-11</td>\n",
       "      <td>2019-12-11</td>\n",
       "      <td>2020-08-04</td>\n",
       "      <td>237.0</td>\n",
       "      <td>27</td>\n",
       "    </tr>\n",
       "  </tbody>\n",
       "</table>\n",
       "<p>19 rows × 41 columns</p>\n",
       "</div>"
      ],
      "text/plain": [
       "        date  scc_sample_id  stall_number  cow_id  hygiene_score  \\\n",
       "2   4-Aug-20              3            55    2478              1   \n",
       "4   4-Aug-20              5            57    2344              3   \n",
       "5   4-Aug-20              6            58    3855              1   \n",
       "6   4-Aug-20              7            59    5831              1   \n",
       "11  4-Aug-20             12            64    4690              2   \n",
       "12  4-Aug-20             13            65    2856              1   \n",
       "13  4-Aug-20             14            66     400              2   \n",
       "14  4-Aug-20             15            67    7494              2   \n",
       "17  4-Aug-20             18            70    1897              2   \n",
       "19  4-Aug-20             20             1    2696              2   \n",
       "20  4-Aug-20             21             2    7538              1   \n",
       "24  4-Aug-20             43             6    5877              1   \n",
       "27  4-Aug-20             40             9    5453              3   \n",
       "28  4-Aug-20             39            10     674              2   \n",
       "30  4-Aug-20             37            12    2013              2   \n",
       "32  4-Aug-20             35            14    7439              3   \n",
       "33  4-Aug-20             34            15    7154              1   \n",
       "36  4-Aug-20             31            18    5107              3   \n",
       "39  4-Aug-20             28            21    5497              3   \n",
       "\n",
       "    hygiene_score_notes recorder  notes date_stamp  month        ...         \\\n",
       "2                   NaN  daniela    NaN 2020-08-04      8        ...          \n",
       "4                   NaN  daniela    NaN 2020-08-04      8        ...          \n",
       "5                   NaN  daniela    NaN 2020-08-04      8        ...          \n",
       "6                   NaN  daniela    NaN 2020-08-04      8        ...          \n",
       "11                  NaN  daniela    NaN 2020-08-04      8        ...          \n",
       "12                  NaN  daniela    NaN 2020-08-04      8        ...          \n",
       "13                  NaN  daniela    NaN 2020-08-04      8        ...          \n",
       "14                  NaN  daniela    NaN 2020-08-04      8        ...          \n",
       "17                  NaN  daniela    NaN 2020-08-04      8        ...          \n",
       "19                  NaN  daniela    NaN 2020-08-04      8        ...          \n",
       "20                  NaN  daniela    NaN 2020-08-04      8        ...          \n",
       "24                  NaN     gema    NaN 2020-08-04      8        ...          \n",
       "27                  NaN     gema    NaN 2020-08-04      8        ...          \n",
       "28                  NaN     gema    NaN 2020-08-04      8        ...          \n",
       "30                  NaN     gema    NaN 2020-08-04      8        ...          \n",
       "32                  NaN     gema    NaN 2020-08-04      8        ...          \n",
       "33                  NaN     gema    NaN 2020-08-04      8        ...          \n",
       "36                  NaN     gema    NaN 2020-08-04      8        ...          \n",
       "39                  NaN     gema    NaN 2020-08-04      8        ...          \n",
       "\n",
       "    Dry-off date Obs  labdate_stamp  freshdate_stamp  lastmovedate_stamp  \\\n",
       "2       8/4/2020 NaN     2020-08-04       2019-10-24          2020-07-08   \n",
       "4       8/4/2020 NaN     2020-08-04       2019-08-30          2020-06-24   \n",
       "5       8/4/2020 NaN     2020-08-04       2019-11-09          2020-07-16   \n",
       "6       8/4/2020 NaN     2020-08-04       2019-10-15          2020-07-08   \n",
       "11      8/4/2020 NaN     2020-08-04       2019-04-07          2020-07-15   \n",
       "12      8/4/2020 NaN     2020-08-04       2019-11-09          2020-07-15   \n",
       "13      8/4/2020 NaN     2020-08-04       2019-11-02          2020-07-08   \n",
       "14      8/4/2020 NaN     2020-08-04       2019-10-22          2020-07-08   \n",
       "17      8/4/2020 NaN     2020-08-04       2019-11-04          2020-07-08   \n",
       "19      8/4/2020 NaN     2020-08-04       2019-05-06          2020-07-15   \n",
       "20      8/4/2020 NaN     2020-08-04       2019-10-20          2020-06-24   \n",
       "24      8/4/2020 NaN     2020-08-04       2019-10-04          2020-06-24   \n",
       "27      8/4/2020 NaN     2020-08-04       2019-11-02          2020-07-08   \n",
       "28      8/4/2020 NaN     2020-08-04       2019-10-08          2020-06-24   \n",
       "30      8/4/2020 NaN     2020-08-04       2019-07-20          2020-07-15   \n",
       "32      8/4/2020 NaN     2020-08-04       2019-11-07          2020-06-24   \n",
       "33      8/4/2020 NaN     2020-08-04       2019-09-06          2020-07-08   \n",
       "36      8/4/2020 NaN     2020-08-04       2019-09-28          2020-06-24   \n",
       "39      8/4/2020 NaN     2020-08-04       2019-10-16          2020-07-08   \n",
       "\n",
       "    dayfirstCM_stamp  daylastCM_stamp  dryoffdate_stamp  diff_dryoff_lastCM  \\\n",
       "2         2020-06-10       2020-06-10        2020-08-04                55.0   \n",
       "4                NaT              NaT        2020-08-04                 NaN   \n",
       "5         2019-12-14       2020-07-13        2020-08-04                22.0   \n",
       "6                NaT              NaT        2020-08-04                 NaN   \n",
       "11        2019-04-22       2020-06-05        2020-08-04                60.0   \n",
       "12        2020-01-07       2020-01-07        2020-08-04               210.0   \n",
       "13               NaT              NaT        2020-08-04                 NaN   \n",
       "14               NaT              NaT        2020-08-04                 NaN   \n",
       "17        2019-12-11       2020-06-05        2020-08-04                60.0   \n",
       "19        2019-11-05       2019-11-05        2020-08-04               273.0   \n",
       "20               NaT              NaT        2020-08-04                 NaN   \n",
       "24               NaT              NaT        2020-08-04                 NaN   \n",
       "27        2020-06-23       2020-06-23        2020-08-04                42.0   \n",
       "28        2019-11-02       2019-11-02        2020-08-04               276.0   \n",
       "30        2019-07-20       2020-07-05        2020-08-04                30.0   \n",
       "32        2019-11-08       2019-11-08        2020-08-04               270.0   \n",
       "33        2020-06-11       2020-06-11        2020-08-04                54.0   \n",
       "36               NaT              NaT        2020-08-04                 NaN   \n",
       "39        2019-12-11       2019-12-11        2020-08-04               237.0   \n",
       "\n",
       "    diff_penmovement  \n",
       "2                 27  \n",
       "4                 41  \n",
       "5                 19  \n",
       "6                 27  \n",
       "11                20  \n",
       "12                20  \n",
       "13                27  \n",
       "14                27  \n",
       "17                27  \n",
       "19                20  \n",
       "20                41  \n",
       "24                41  \n",
       "27                27  \n",
       "28                41  \n",
       "30                20  \n",
       "32                41  \n",
       "33                27  \n",
       "36                41  \n",
       "39                27  \n",
       "\n",
       "[19 rows x 41 columns]"
      ]
     },
     "execution_count": 57,
     "metadata": {},
     "output_type": "execute_result"
    }
   ],
   "source": [
    "#df_scoreDHIA.loc[(df_scoreDHIA['diff_penmovement'] < pd.Timedelta('44 days'))]\n",
    "df_scoreDHIA.loc[(df_scoreDHIA['diff_penmovement'] < 44)]\n"
   ]
  },
  {
   "cell_type": "markdown",
   "metadata": {},
   "source": [
    "### 2-June-2020:\n",
    "There is one cow (3006) that changed pens within the study period (6 days before dry-off). All the other cows had been moved more than 41 days ago, or even more.\n",
    "<br><br>"
   ]
  },
  {
   "cell_type": "markdown",
   "metadata": {},
   "source": [
    "## Create the outcome variable"
   ]
  },
  {
   "cell_type": "code",
   "execution_count": 58,
   "metadata": {},
   "outputs": [],
   "source": [
    "def catg_Scc (row):\n",
    "    if (row['Scc'] > 200.0):\n",
    "        return '1'\n",
    "    if (row['Scc'] <= 200.0):\n",
    "        return '0'"
   ]
  },
  {
   "cell_type": "code",
   "execution_count": 59,
   "metadata": {},
   "outputs": [],
   "source": [
    "df_scoreDHIA['scc_catg'] = df_scoreDHIA.apply(lambda row: catg_Scc(row), axis = 1)"
   ]
  },
  {
   "cell_type": "code",
   "execution_count": 60,
   "metadata": {},
   "outputs": [],
   "source": [
    "# Save\n",
    "df_scoreDHIA.to_csv(\"/Users/gemavidal/Box Sync/Vet/Projects and Papers/2021 Chapter 4 Dissertation High SCC Prediciton Udder Hygiene/df_scoreDHIA_08042020.csv\")\n"
   ]
  },
  {
   "cell_type": "markdown",
   "metadata": {},
   "source": [
    "<br>\n",
    "## Updating the file"
   ]
  },
  {
   "cell_type": "markdown",
   "metadata": {},
   "source": [
    "Read all the available files"
   ]
  },
  {
   "cell_type": "code",
   "execution_count": 61,
   "metadata": {},
   "outputs": [],
   "source": [
    "#file_path = \"/Users/gemavidal/Box Sync/Vet/Projects and Papers/2021 Chapter 4 Dissertation High SCC Prediciton Udder Hygiene/df_scoreDHIA_06022020.csv\"\n",
    "#df_1 = pd.read_csv(file_path, index_col = False)\n",
    "\n",
    "#file_path = \"/Users/gemavidal/Box Sync/Vet/Projects and Papers/2021 Chapter 4 Dissertation High SCC Prediciton Udder Hygiene/df_scoreDHIA_06302020.csv\"\n",
    "#df_2 = pd.read_csv(file_path, index_col = False)\n",
    "\n",
    "file_path = \"/Users/gemavidal/Box Sync/Vet/Projects and Papers/2021 Chapter 4 Dissertation High SCC Prediciton Udder Hygiene/df_scoreDHIA_June2020.csv\"\n",
    "df_previous = pd.read_csv(file_path, index_col = False)\n",
    "\n",
    "file_path = \"/Users/gemavidal/Box Sync/Vet/Projects and Papers/2021 Chapter 4 Dissertation High SCC Prediciton Udder Hygiene/df_scoreDHIA_08042020.csv\"\n",
    "df_3 = pd.read_csv(file_path, index_col = False)\n"
   ]
  },
  {
   "cell_type": "code",
   "execution_count": 62,
   "metadata": {
    "scrolled": true
   },
   "outputs": [
    {
     "name": "stdout",
     "output_type": "stream",
     "text": [
      "(80, 46) (43, 43)\n"
     ]
    }
   ],
   "source": [
    "print df_previous.shape, df_3.shape"
   ]
  },
  {
   "cell_type": "code",
   "execution_count": 65,
   "metadata": {},
   "outputs": [
    {
     "data": {
      "text/plain": [
       "Index([u'DIM at dry-off', u'Date', u'Day first CM', u'Dry-off date', u'Fat',\n",
       "       u'Fresh date', u'Lac', u'Lactation number', u'Last CM', u'Last move',\n",
       "       u'Last test-day milk production (lbs)', u'Mun',\n",
       "       u'N clinical mastitis current lactation', u'N days for 1st CM case',\n",
       "       u'N days from last CM to dry-off', u'Obs', u'Order', u'Pen', u'Pro',\n",
       "       u'Sample ID', u'Scc', u'Snf', u'Stall ID', u'Unnamed: 0',\n",
       "       u'Unnamed: 0.1', u'cow_id', u'date', u'date_stamp', u'dayfirstCM_stamp',\n",
       "       u'daylastCM_stamp', u'diff_dryoff_lastCM', u'diff_penmovement',\n",
       "       u'dryoffdate_stamp', u'freshdate_stamp', u'hygiene_score',\n",
       "       u'hygiene_score_notes', u'labdate_stamp', u'last Pen',\n",
       "       u'lastmovedate_stamp', u'month', u'notes', u'recorder', u'scc_catg',\n",
       "       u'scc_sample_id', u'stall_number', u'year'],\n",
       "      dtype='object')"
      ]
     },
     "execution_count": 65,
     "metadata": {},
     "output_type": "execute_result"
    }
   ],
   "source": [
    "# sort column names\n",
    "df_previous = df_previous.reindex(sorted(df_previous.columns), axis = 1)\n",
    "df_previous.columns"
   ]
  },
  {
   "cell_type": "code",
   "execution_count": 66,
   "metadata": {},
   "outputs": [
    {
     "data": {
      "text/plain": [
       "Index([u'DIM at dry-off', u'Date', u'Day first CM', u'Dry-off date', u'Fat',\n",
       "       u'Fresh date', u'Lac', u'Lactation number', u'Last CM', u'Last move',\n",
       "       u'Last test-day milk production (lbs)', u'Mun',\n",
       "       u'N clinical mastitis current lactation', u'N days for 1st CM case',\n",
       "       u'N days from last CM to dry-off', u'Obs', u'Order', u'Pro',\n",
       "       u'Sample ID', u'Scc', u'Snf', u'Unnamed: 0', u'cow_id', u'date',\n",
       "       u'date_stamp', u'dayfirstCM_stamp', u'daylastCM_stamp',\n",
       "       u'diff_dryoff_lastCM', u'diff_penmovement', u'dryoffdate_stamp',\n",
       "       u'freshdate_stamp', u'hygiene_score', u'hygiene_score_notes',\n",
       "       u'labdate_stamp', u'last Pen', u'lastmovedate_stamp', u'month',\n",
       "       u'notes', u'recorder', u'scc_catg', u'scc_sample_id', u'stall_number',\n",
       "       u'year'],\n",
       "      dtype='object')"
      ]
     },
     "execution_count": 66,
     "metadata": {},
     "output_type": "execute_result"
    }
   ],
   "source": [
    "df_3 = df_3.reindex(sorted(df_3.columns), axis = 1)\n",
    "df_3.columns"
   ]
  },
  {
   "cell_type": "code",
   "execution_count": 67,
   "metadata": {},
   "outputs": [
    {
     "data": {
      "text/plain": [
       "(123, 46)"
      ]
     },
     "execution_count": 67,
     "metadata": {},
     "output_type": "execute_result"
    }
   ],
   "source": [
    "df_updated = df_previous.append(df_3, ignore_index = True)\n",
    "df_updated.shape"
   ]
  },
  {
   "cell_type": "code",
   "execution_count": 68,
   "metadata": {},
   "outputs": [
    {
     "data": {
      "text/html": [
       "<div>\n",
       "<style scoped>\n",
       "    .dataframe tbody tr th:only-of-type {\n",
       "        vertical-align: middle;\n",
       "    }\n",
       "\n",
       "    .dataframe tbody tr th {\n",
       "        vertical-align: top;\n",
       "    }\n",
       "\n",
       "    .dataframe thead th {\n",
       "        text-align: right;\n",
       "    }\n",
       "</style>\n",
       "<table border=\"1\" class=\"dataframe\">\n",
       "  <thead>\n",
       "    <tr style=\"text-align: right;\">\n",
       "      <th></th>\n",
       "      <th>DIM at dry-off</th>\n",
       "      <th>Date</th>\n",
       "      <th>Day first CM</th>\n",
       "      <th>Dry-off date</th>\n",
       "      <th>Fat</th>\n",
       "      <th>Fresh date</th>\n",
       "      <th>Lac</th>\n",
       "      <th>Lactation number</th>\n",
       "      <th>Last CM</th>\n",
       "      <th>Last move</th>\n",
       "      <th>...</th>\n",
       "      <th>labdate_stamp</th>\n",
       "      <th>last Pen</th>\n",
       "      <th>lastmovedate_stamp</th>\n",
       "      <th>month</th>\n",
       "      <th>notes</th>\n",
       "      <th>recorder</th>\n",
       "      <th>scc_catg</th>\n",
       "      <th>scc_sample_id</th>\n",
       "      <th>stall_number</th>\n",
       "      <th>year</th>\n",
       "    </tr>\n",
       "  </thead>\n",
       "  <tbody>\n",
       "    <tr>\n",
       "      <th>0</th>\n",
       "      <td>302.0</td>\n",
       "      <td>6.2.20</td>\n",
       "      <td>8/6/19</td>\n",
       "      <td>6/2/20</td>\n",
       "      <td>2.24</td>\n",
       "      <td>8/5/19</td>\n",
       "      <td>4.42</td>\n",
       "      <td>3.0</td>\n",
       "      <td>NaN</td>\n",
       "      <td>4/1/20</td>\n",
       "      <td>...</td>\n",
       "      <td>2020-06-02</td>\n",
       "      <td>NaN</td>\n",
       "      <td>2020-04-01</td>\n",
       "      <td>6</td>\n",
       "      <td>NaN</td>\n",
       "      <td>daniela</td>\n",
       "      <td>1</td>\n",
       "      <td>11</td>\n",
       "      <td>51</td>\n",
       "      <td>2020</td>\n",
       "    </tr>\n",
       "    <tr>\n",
       "      <th>1</th>\n",
       "      <td>299.0</td>\n",
       "      <td>6.2.20</td>\n",
       "      <td>NaN</td>\n",
       "      <td>6/2/20</td>\n",
       "      <td>1.36</td>\n",
       "      <td>8/8/19</td>\n",
       "      <td>4.78</td>\n",
       "      <td>2.0</td>\n",
       "      <td>NaN</td>\n",
       "      <td>4/15/20</td>\n",
       "      <td>...</td>\n",
       "      <td>2020-06-02</td>\n",
       "      <td>NaN</td>\n",
       "      <td>2020-04-15</td>\n",
       "      <td>6</td>\n",
       "      <td>NaN</td>\n",
       "      <td>daniela</td>\n",
       "      <td>0</td>\n",
       "      <td>29</td>\n",
       "      <td>52</td>\n",
       "      <td>2020</td>\n",
       "    </tr>\n",
       "    <tr>\n",
       "      <th>2</th>\n",
       "      <td>269.0</td>\n",
       "      <td>6.2.20</td>\n",
       "      <td>NaN</td>\n",
       "      <td>6/2/20</td>\n",
       "      <td>0.77</td>\n",
       "      <td>9/7/19</td>\n",
       "      <td>4.86</td>\n",
       "      <td>1.0</td>\n",
       "      <td>NaN</td>\n",
       "      <td>2/26/20</td>\n",
       "      <td>...</td>\n",
       "      <td>2020-06-02</td>\n",
       "      <td>NaN</td>\n",
       "      <td>2020-02-26</td>\n",
       "      <td>6</td>\n",
       "      <td>NaN</td>\n",
       "      <td>gema</td>\n",
       "      <td>0</td>\n",
       "      <td>49</td>\n",
       "      <td>53</td>\n",
       "      <td>2020</td>\n",
       "    </tr>\n",
       "  </tbody>\n",
       "</table>\n",
       "<p>3 rows × 46 columns</p>\n",
       "</div>"
      ],
      "text/plain": [
       "   DIM at dry-off    Date Day first CM Dry-off date   Fat Fresh date   Lac  \\\n",
       "0           302.0  6.2.20       8/6/19       6/2/20  2.24     8/5/19  4.42   \n",
       "1           299.0  6.2.20          NaN       6/2/20  1.36     8/8/19  4.78   \n",
       "2           269.0  6.2.20          NaN       6/2/20  0.77     9/7/19  4.86   \n",
       "\n",
       "   Lactation number Last CM Last move  ...  labdate_stamp  last Pen  \\\n",
       "0               3.0     NaN    4/1/20  ...     2020-06-02       NaN   \n",
       "1               2.0     NaN   4/15/20  ...     2020-06-02       NaN   \n",
       "2               1.0     NaN   2/26/20  ...     2020-06-02       NaN   \n",
       "\n",
       "   lastmovedate_stamp  month  notes recorder  scc_catg  scc_sample_id  \\\n",
       "0          2020-04-01      6    NaN  daniela         1             11   \n",
       "1          2020-04-15      6    NaN  daniela         0             29   \n",
       "2          2020-02-26      6    NaN     gema         0             49   \n",
       "\n",
       "   stall_number  year  \n",
       "0            51  2020  \n",
       "1            52  2020  \n",
       "2            53  2020  \n",
       "\n",
       "[3 rows x 46 columns]"
      ]
     },
     "execution_count": 68,
     "metadata": {},
     "output_type": "execute_result"
    }
   ],
   "source": [
    "#list(df_updated.columns)\n",
    "df_updated.head(3)"
   ]
  },
  {
   "cell_type": "markdown",
   "metadata": {},
   "source": [
    "### Compute some new variables"
   ]
  },
  {
   "cell_type": "code",
   "execution_count": 97,
   "metadata": {},
   "outputs": [],
   "source": [
    "def label_parity (row):\n",
    "    if (row['Lactation number'] == 1):\n",
    "        return 1\n",
    "    if (row['Lactation number'] >= 2):\n",
    "        return 2"
   ]
  },
  {
   "cell_type": "code",
   "execution_count": 98,
   "metadata": {},
   "outputs": [],
   "source": [
    "def label_NumCM (row):\n",
    "    if (row['N clinical mastitis current lactation'] == 0):\n",
    "        return 0\n",
    "    if (row['N clinical mastitis current lactation'] >= 1):\n",
    "        return 1"
   ]
  },
  {
   "cell_type": "code",
   "execution_count": 99,
   "metadata": {},
   "outputs": [],
   "source": [
    "df_updated['parity_catg'] = df_updated.apply(lambda row: label_parity(row), axis = 1)\n",
    "df_updated['No_CM_catg'] = df_updated.apply(lambda row: label_NumCM(row), axis = 1)"
   ]
  },
  {
   "cell_type": "code",
   "execution_count": 101,
   "metadata": {},
   "outputs": [],
   "source": [
    "# Change dryoffdate_stamp from object into a timestamp\n",
    "\n",
    "df_updated['dryoffdate_stamp'] = pd.to_datetime(df_updated['dryoffdate_stamp'], format = '%Y-%m-%d')"
   ]
  },
  {
   "cell_type": "code",
   "execution_count": 116,
   "metadata": {},
   "outputs": [],
   "source": [
    "def label_season (row):\n",
    "    if (row['dryoffdate_stamp'] >= pd.Timestamp('2020-03-21') and row['dryoffdate_stamp'] < pd.Timestamp('2020-06-21')):\n",
    "        return 'spring'\n",
    "    if (row['dryoffdate_stamp'] >= pd.Timestamp('2020-06-21') and row['dryoffdate_stamp'] < pd.Timestamp('2020-09-21')):\n",
    "        return 'summer'\n",
    "    if (row['dryoffdate_stamp'] >= pd.Timestamp('2020-09-21') and row['dryoffdate_stamp'] < pd.Timestamp('2020-12-21')):\n",
    "        return 'fall'\n",
    "    if (row['dryoffdate_stamp'] >= pd.Timestamp('2020-12-21') and row['dryoffdate_stamp'] < pd.Timestamp('2021-03-21')):\n",
    "        return 'winter'\n",
    "    if (row['dryoffdate_stamp'] >= pd.Timestamp('2021-03-21') and row['dryoffdate_stamp'] < pd.Timestamp('2021-06-21')):\n",
    "        return 'spring'\n",
    "    if (row['dryoffdate_stamp'] >= pd.Timestamp('2021-06-21') and row['dryoffdate_stamp'] < pd.Timestamp('2021-09-21')):\n",
    "        return 'summer'   "
   ]
  },
  {
   "cell_type": "code",
   "execution_count": 117,
   "metadata": {},
   "outputs": [],
   "source": [
    "df_updated['season'] = df_updated.apply(lambda row: label_season(row), axis = 1)"
   ]
  },
  {
   "cell_type": "markdown",
   "metadata": {},
   "source": [
    "### Save new updated file"
   ]
  },
  {
   "cell_type": "code",
   "execution_count": 120,
   "metadata": {},
   "outputs": [],
   "source": [
    "#df_12.to_csv(\"/Users/gemavidal/Box Sync/Vet/Projects and Papers/2021 Chapter 4 Dissertation High SCC Prediciton Udder Hygiene/df_scoreDHIA_June2020.csv\")\n",
    "df_updated.to_csv(\"/Users/gemavidal/Box Sync/Vet/Projects and Papers/2021 Chapter 4 Dissertation High SCC Prediciton Udder Hygiene/df_scoreDHIA_August2020.csv\")\n"
   ]
  },
  {
   "cell_type": "markdown",
   "metadata": {},
   "source": [
    "<br>\n",
    "## Interesting descriptives"
   ]
  },
  {
   "cell_type": "markdown",
   "metadata": {},
   "source": [
    "### Distribution of hygiene scores"
   ]
  },
  {
   "cell_type": "code",
   "execution_count": 70,
   "metadata": {},
   "outputs": [
    {
     "data": {
      "text/html": [
       "<div>\n",
       "<style scoped>\n",
       "    .dataframe tbody tr th:only-of-type {\n",
       "        vertical-align: middle;\n",
       "    }\n",
       "\n",
       "    .dataframe tbody tr th {\n",
       "        vertical-align: top;\n",
       "    }\n",
       "\n",
       "    .dataframe thead th {\n",
       "        text-align: right;\n",
       "    }\n",
       "</style>\n",
       "<table border=\"1\" class=\"dataframe\">\n",
       "  <thead>\n",
       "    <tr style=\"text-align: right;\">\n",
       "      <th></th>\n",
       "      <th>DIM at dry-off</th>\n",
       "    </tr>\n",
       "  </thead>\n",
       "  <tbody>\n",
       "    <tr>\n",
       "      <th>count</th>\n",
       "      <td>123.00</td>\n",
       "    </tr>\n",
       "    <tr>\n",
       "      <th>mean</th>\n",
       "      <td>309.61</td>\n",
       "    </tr>\n",
       "    <tr>\n",
       "      <th>std</th>\n",
       "      <td>42.67</td>\n",
       "    </tr>\n",
       "    <tr>\n",
       "      <th>min</th>\n",
       "      <td>255.00</td>\n",
       "    </tr>\n",
       "    <tr>\n",
       "      <th>25%</th>\n",
       "      <td>277.00</td>\n",
       "    </tr>\n",
       "    <tr>\n",
       "      <th>50%</th>\n",
       "      <td>300.00</td>\n",
       "    </tr>\n",
       "    <tr>\n",
       "      <th>75%</th>\n",
       "      <td>319.00</td>\n",
       "    </tr>\n",
       "    <tr>\n",
       "      <th>max</th>\n",
       "      <td>485.00</td>\n",
       "    </tr>\n",
       "  </tbody>\n",
       "</table>\n",
       "</div>"
      ],
      "text/plain": [
       "       DIM at dry-off\n",
       "count          123.00\n",
       "mean           309.61\n",
       "std             42.67\n",
       "min            255.00\n",
       "25%            277.00\n",
       "50%            300.00\n",
       "75%            319.00\n",
       "max            485.00"
      ]
     },
     "execution_count": 70,
     "metadata": {},
     "output_type": "execute_result"
    }
   ],
   "source": [
    "((df_updated['DIM at dry-off'].describe(include = [np.number]).transpose()).to_frame()).round(decimals = 2)"
   ]
  },
  {
   "cell_type": "code",
   "execution_count": 75,
   "metadata": {},
   "outputs": [],
   "source": [
    "sns.set(rc={'figure.figsize':(11,8)})"
   ]
  },
  {
   "cell_type": "code",
   "execution_count": 76,
   "metadata": {},
   "outputs": [
    {
     "data": {
      "text/plain": [
       "<matplotlib.axes._subplots.AxesSubplot at 0x1a09fba250>"
      ]
     },
     "execution_count": 76,
     "metadata": {},
     "output_type": "execute_result"
    },
    {
     "data": {
      "image/png": "[encoded data removed]",
      "text/plain": [
       "<matplotlib.figure.Figure at 0x1a09fac2d0>"
      ]
     },
     "metadata": {},
     "output_type": "display_data"
    }
   ],
   "source": [
    "sns.scatterplot(x = 'Scc', y = 'hygiene_score', data = df_updated, hue = 'scc_catg')"
   ]
  },
  {
   "cell_type": "code",
   "execution_count": 77,
   "metadata": {},
   "outputs": [
    {
     "data": {
      "text/plain": [
       "<matplotlib.axes._subplots.AxesSubplot at 0x1a09fcd2d0>"
      ]
     },
     "execution_count": 77,
     "metadata": {},
     "output_type": "execute_result"
    },
    {
     "data": {
      "image/png": "[encoded data removed]",
      "text/plain": [
       "<matplotlib.figure.Figure at 0x1a09facdd0>"
      ]
     },
     "metadata": {},
     "output_type": "display_data"
    }
   ],
   "source": [
    "sns.scatterplot(x = 'Last test-day milk production (lbs)', y = 'Scc', data = df_updated, hue = 'scc_catg')"
   ]
  },
  {
   "cell_type": "code",
   "execution_count": 78,
   "metadata": {},
   "outputs": [
    {
     "data": {
      "text/plain": [
       "<matplotlib.axes._subplots.AxesSubplot at 0x1a102b4ad0>"
      ]
     },
     "execution_count": 78,
     "metadata": {},
     "output_type": "execute_result"
    },
    {
     "data": {
      "image/png": "[encoded data removed]",
      "text/plain": [
       "<matplotlib.figure.Figure at 0x1a102b7ed0>"
      ]
     },
     "metadata": {},
     "output_type": "display_data"
    }
   ],
   "source": [
    "sns.distplot(df_updated['hygiene_score'], rug = True, hist = True)"
   ]
  },
  {
   "cell_type": "code",
   "execution_count": 79,
   "metadata": {},
   "outputs": [
    {
     "data": {
      "text/plain": [
       "<matplotlib.axes._subplots.AxesSubplot at 0x1a1021d2d0>"
      ]
     },
     "execution_count": 79,
     "metadata": {},
     "output_type": "execute_result"
    },
    {
     "data": {
      "image/png": "[encoded data removed]",
      "text/plain": [
       "<matplotlib.figure.Figure at 0x1a09f75e90>"
      ]
     },
     "metadata": {},
     "output_type": "display_data"
    }
   ],
   "source": [
    "sns.distplot(df_updated['scc_catg'], rug = True, hist = True)"
   ]
  },
  {
   "cell_type": "code",
   "execution_count": 80,
   "metadata": {},
   "outputs": [
    {
     "data": {
      "text/plain": [
       "<matplotlib.axes._subplots.AxesSubplot at 0x1a102473d0>"
      ]
     },
     "execution_count": 80,
     "metadata": {},
     "output_type": "execute_result"
    },
    {
     "data": {
      "image/png": "[encoded data removed]",
      "text/plain": [
       "<matplotlib.figure.Figure at 0x1a09f10b50>"
      ]
     },
     "metadata": {},
     "output_type": "display_data"
    }
   ],
   "source": [
    "sns.distplot(df_updated['N clinical mastitis current lactation'], rug = True, hist = True)"
   ]
  },
  {
   "cell_type": "code",
   "execution_count": 94,
   "metadata": {
    "scrolled": false
   },
   "outputs": [
    {
     "data": {
      "text/plain": [
       "<matplotlib.axes._subplots.AxesSubplot at 0x1a13c5cc10>"
      ]
     },
     "execution_count": 94,
     "metadata": {},
     "output_type": "execute_result"
    },
    {
     "data": {
      "image/png": "[encoded data removed]",
      "text/plain": [
       "<matplotlib.figure.Figure at 0x1a14852710>"
      ]
     },
     "metadata": {},
     "output_type": "display_data"
    }
   ],
   "source": [
    "sns.distplot(df_updated['No_CM_catg'], rug = True, hist = True)"
   ]
  },
  {
   "cell_type": "code",
   "execution_count": 82,
   "metadata": {},
   "outputs": [
    {
     "data": {
      "text/plain": [
       "<matplotlib.axes._subplots.AxesSubplot at 0x1a12f8b410>"
      ]
     },
     "execution_count": 82,
     "metadata": {},
     "output_type": "execute_result"
    },
    {
     "data": {
      "image/png": "[encoded data removed]",
      "text/plain": [
       "<matplotlib.figure.Figure at 0x1a12f91510>"
      ]
     },
     "metadata": {},
     "output_type": "display_data"
    }
   ],
   "source": [
    "sns.distplot(df_updated['Lactation number'], rug = True, hist = True)"
   ]
  },
  {
   "cell_type": "code",
   "execution_count": 95,
   "metadata": {
    "scrolled": false
   },
   "outputs": [
    {
     "data": {
      "text/plain": [
       "<matplotlib.axes._subplots.AxesSubplot at 0x1a1489b650>"
      ]
     },
     "execution_count": 95,
     "metadata": {},
     "output_type": "execute_result"
    },
    {
     "data": {
      "image/png": "[encoded data removed]",
      "text/plain": [
       "<matplotlib.figure.Figure at 0x1a148a12d0>"
      ]
     },
     "metadata": {},
     "output_type": "display_data"
    }
   ],
   "source": [
    "sns.distplot(df_updated['parity_catg'], rug = True, hist = True)"
   ]
  },
  {
   "cell_type": "code",
   "execution_count": 84,
   "metadata": {},
   "outputs": [
    {
     "data": {
      "text/plain": [
       "<matplotlib.axes._subplots.AxesSubplot at 0x1a13c5a8d0>"
      ]
     },
     "execution_count": 84,
     "metadata": {},
     "output_type": "execute_result"
    },
    {
     "data": {
      "image/png": "[encoded data removed]",
      "text/plain": [
       "<matplotlib.figure.Figure at 0x1a13c5c910>"
      ]
     },
     "metadata": {},
     "output_type": "display_data"
    }
   ],
   "source": [
    "sns.distplot(df_updated['Fat'], rug = True, hist = True)"
   ]
  },
  {
   "cell_type": "code",
   "execution_count": 85,
   "metadata": {},
   "outputs": [
    {
     "data": {
      "text/plain": [
       "<matplotlib.axes._subplots.AxesSubplot at 0x1a13c96a10>"
      ]
     },
     "execution_count": 85,
     "metadata": {},
     "output_type": "execute_result"
    },
    {
     "data": {
      "image/png": "[encoded data removed]",
      "text/plain": [
       "<matplotlib.figure.Figure at 0x1a13c72350>"
      ]
     },
     "metadata": {},
     "output_type": "display_data"
    }
   ],
   "source": [
    "sns.distplot(df_updated['Lac'], rug = True, hist = True)"
   ]
  },
  {
   "cell_type": "code",
   "execution_count": 86,
   "metadata": {},
   "outputs": [
    {
     "data": {
      "text/plain": [
       "<matplotlib.axes._subplots.AxesSubplot at 0x1a13c8ff90>"
      ]
     },
     "execution_count": 86,
     "metadata": {},
     "output_type": "execute_result"
    },
    {
     "data": {
      "image/png": "[encoded data removed]",
      "text/plain": [
       "<matplotlib.figure.Figure at 0x1a13ca2490>"
      ]
     },
     "metadata": {},
     "output_type": "display_data"
    }
   ],
   "source": [
    "sns.distplot(df_updated['Mun'], rug = True, hist = True)"
   ]
  },
  {
   "cell_type": "code",
   "execution_count": 87,
   "metadata": {},
   "outputs": [
    {
     "data": {
      "text/plain": [
       "<matplotlib.axes._subplots.AxesSubplot at 0x1a13cb9310>"
      ]
     },
     "execution_count": 87,
     "metadata": {},
     "output_type": "execute_result"
    },
    {
     "data": {
      "image/png": "[encoded data removed]",
      "text/plain": [
       "<matplotlib.figure.Figure at 0x1a13f50590>"
      ]
     },
     "metadata": {},
     "output_type": "display_data"
    }
   ],
   "source": [
    "sns.distplot(df_updated['Pro'], rug = True, hist = True)"
   ]
  },
  {
   "cell_type": "code",
   "execution_count": 88,
   "metadata": {},
   "outputs": [
    {
     "data": {
      "text/plain": [
       "<matplotlib.axes._subplots.AxesSubplot at 0x1a13f86390>"
      ]
     },
     "execution_count": 88,
     "metadata": {},
     "output_type": "execute_result"
    },
    {
     "data": {
      "image/png": "[encoded data removed]",
      "text/plain": [
       "<matplotlib.figure.Figure at 0x1a13fab850>"
      ]
     },
     "metadata": {},
     "output_type": "display_data"
    }
   ],
   "source": [
    "sns.distplot(df_updated['Scc'], rug = True, hist = True)"
   ]
  },
  {
   "cell_type": "code",
   "execution_count": 89,
   "metadata": {},
   "outputs": [
    {
     "data": {
      "text/plain": [
       "<matplotlib.axes._subplots.AxesSubplot at 0x1a13f86e10>"
      ]
     },
     "execution_count": 89,
     "metadata": {},
     "output_type": "execute_result"
    },
    {
     "data": {
      "image/png": "[encoded data removed]",
      "text/plain": [
       "<matplotlib.figure.Figure at 0x1a13fbef50>"
      ]
     },
     "metadata": {},
     "output_type": "display_data"
    }
   ],
   "source": [
    "sns.distplot(df_updated['Snf'], rug = True, hist = True)"
   ]
  },
  {
   "cell_type": "code",
   "execution_count": 90,
   "metadata": {},
   "outputs": [
    {
     "data": {
      "text/plain": [
       "<matplotlib.axes._subplots.AxesSubplot at 0x1a144e0f50>"
      ]
     },
     "execution_count": 90,
     "metadata": {},
     "output_type": "execute_result"
    },
    {
     "data": {
      "image/png": "[encoded data removed]",
      "text/plain": [
       "<matplotlib.figure.Figure at 0x1a13fb2b50>"
      ]
     },
     "metadata": {},
     "output_type": "display_data"
    }
   ],
   "source": [
    "sns.violinplot(x = 'scc_catg', y = 'DIM at dry-off', data = df_, inner = 'quartile')\n",
    "               #order = ['convalescent', 'first_week', 'second_week', 'third_week'])"
   ]
  },
  {
   "cell_type": "code",
   "execution_count": null,
   "metadata": {},
   "outputs": [],
   "source": []
  }
 ],
 "metadata": {
  "kernelspec": {
   "display_name": "p36workshop",
   "language": "python",
   "name": "p36workshop"
  },
  "language_info": {
   "codemirror_mode": {
    "name": "ipython",
    "version": 2
   },
   "file_extension": ".py",
   "mimetype": "text/x-python",
   "name": "python",
   "nbconvert_exporter": "python",
   "pygments_lexer": "ipython2",
   "version": "2.7.3"
  }
 },
 "nbformat": 4,
 "nbformat_minor": 2
}
